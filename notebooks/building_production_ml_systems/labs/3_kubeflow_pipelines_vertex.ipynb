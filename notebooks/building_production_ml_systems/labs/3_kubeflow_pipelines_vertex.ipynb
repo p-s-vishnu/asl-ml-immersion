{
 "cells": [
  {
   "cell_type": "markdown",
   "metadata": {
    "id": "ur8xi4C7S06n"
   },
   "source": [
    "# Vertex pipelines\n",
    "\n",
    "**Learning Objectives:**\n",
    "\n",
    "Use components from `google_cloud_pipeline_components` to create a Vertex Pipeline which will\n",
    "  1. train a custom model on Vertex AI\n",
    "  1. create an endpoint to host the model \n",
    "  1. upload the trained model, and \n",
    "  1. deploy the uploaded model to the endpoint for serving"
   ]
  },
  {
   "cell_type": "markdown",
   "metadata": {
    "id": "gBRcgrOk7CUf"
   },
   "source": [
    "## Overview\n",
    "\n",
    "This notebook shows how to use the components defined in [`google_cloud_pipeline_components`](https://github.com/kubeflow/pipelines/tree/master/components/google-cloud) in conjunction with an experimental `run_as_aiplatform_custom_job` method, to build a [Vertex Pipelines](https://cloud.google.com/vertex-ai/docs/pipelines) workflow that trains a [custom model](https://cloud.google.com/vertex-ai/docs/training/containers-overview), uploads the model, creates an endpoint, and deploys the model to the endpoint. \n",
    "\n",
    "We'll use the `kfp.v2.google.experimental.run_as_aiplatform_custom_job` method to train a custom model.\n",
    "\n",
    "The google cloud pipeline components are [documented here](https://google-cloud-pipeline-components.readthedocs.io/en/google-cloud-pipeline-components-0.1.2/). From this [github page](...) you can also find other examples in how to build a Vertex pipeline with AutoML [here](https://github.com/GoogleCloudPlatform/ai-platform-samples/tree/master/ai-platform-unified/notebooks/official/pipelines). You can see other available methods from the [Vertex AI SDK](https://googleapis.dev/python/aiplatform/latest/aiplatform.html)."
   ]
  },
  {
   "cell_type": "markdown",
   "metadata": {
    "id": "ze4-nDLfK4pw"
   },
   "source": [
    "### Set up your local development environment and install necessary packages\n",
    "\n"
   ]
  },
  {
   "cell_type": "code",
   "execution_count": 1,
   "metadata": {
    "id": "yxtzwPPNZ-SH",
    "tags": [
     "flake8-noqa-cell"
    ]
   },
   "outputs": [
    {
     "name": "stdout",
     "output_type": "stream",
     "text": [
      "Requirement already satisfied: google-cloud-pipeline-components==0.1.1 in /home/jupyter/.local/lib/python3.7/site-packages (0.1.1)\n",
      "Requirement already satisfied: google-cloud-aiplatform>=1.0.0 in /opt/conda/lib/python3.7/site-packages (from google-cloud-pipeline-components==0.1.1) (1.7.1)\n",
      "Requirement already satisfied: kfp<2.0.0,>=1.4.0 in /opt/conda/lib/python3.7/site-packages (from google-cloud-pipeline-components==0.1.1) (1.8.10)\n",
      "Requirement already satisfied: google-cloud-storage<2.0.0dev,>=1.32.0 in /opt/conda/lib/python3.7/site-packages (from google-cloud-aiplatform>=1.0.0->google-cloud-pipeline-components==0.1.1) (1.44.0)\n",
      "Requirement already satisfied: proto-plus>=1.10.1 in /opt/conda/lib/python3.7/site-packages (from google-cloud-aiplatform>=1.0.0->google-cloud-pipeline-components==0.1.1) (1.20.3)\n",
      "Requirement already satisfied: google-cloud-bigquery<3.0.0dev,>=1.15.0 in /opt/conda/lib/python3.7/site-packages (from google-cloud-aiplatform>=1.0.0->google-cloud-pipeline-components==0.1.1) (2.34.0)\n",
      "Requirement already satisfied: packaging>=14.3 in /opt/conda/lib/python3.7/site-packages (from google-cloud-aiplatform>=1.0.0->google-cloud-pipeline-components==0.1.1) (20.9)\n",
      "Requirement already satisfied: google-api-core[grpc]<3.0.0dev,>=1.26.0 in /opt/conda/lib/python3.7/site-packages (from google-cloud-aiplatform>=1.0.0->google-cloud-pipeline-components==0.1.1) (1.31.5)\n",
      "Requirement already satisfied: jsonschema<4,>=3.0.1 in /opt/conda/lib/python3.7/site-packages (from kfp<2.0.0,>=1.4.0->google-cloud-pipeline-components==0.1.1) (3.2.0)\n",
      "Requirement already satisfied: PyYAML<6,>=5.3 in /opt/conda/lib/python3.7/site-packages (from kfp<2.0.0,>=1.4.0->google-cloud-pipeline-components==0.1.1) (5.4.1)\n",
      "Requirement already satisfied: strip-hints<1,>=0.1.8 in /opt/conda/lib/python3.7/site-packages (from kfp<2.0.0,>=1.4.0->google-cloud-pipeline-components==0.1.1) (0.1.10)\n",
      "Requirement already satisfied: uritemplate<4,>=3.0.1 in /opt/conda/lib/python3.7/site-packages (from kfp<2.0.0,>=1.4.0->google-cloud-pipeline-components==0.1.1) (3.0.1)\n",
      "Requirement already satisfied: typer<1.0,>=0.3.2 in /opt/conda/lib/python3.7/site-packages (from kfp<2.0.0,>=1.4.0->google-cloud-pipeline-components==0.1.1) (0.4.0)\n",
      "Requirement already satisfied: google-auth<2,>=1.6.1 in /opt/conda/lib/python3.7/site-packages (from kfp<2.0.0,>=1.4.0->google-cloud-pipeline-components==0.1.1) (1.35.0)\n",
      "Requirement already satisfied: tabulate<1,>=0.8.6 in /opt/conda/lib/python3.7/site-packages (from kfp<2.0.0,>=1.4.0->google-cloud-pipeline-components==0.1.1) (0.8.9)\n",
      "Requirement already satisfied: kfp-pipeline-spec<0.2.0,>=0.1.13 in /opt/conda/lib/python3.7/site-packages (from kfp<2.0.0,>=1.4.0->google-cloud-pipeline-components==0.1.1) (0.1.13)\n",
      "Requirement already satisfied: typing-extensions<4,>=3.7.4 in /opt/conda/lib/python3.7/site-packages (from kfp<2.0.0,>=1.4.0->google-cloud-pipeline-components==0.1.1) (3.10.0.2)\n",
      "Requirement already satisfied: absl-py<=0.11,>=0.9 in /home/jupyter/.local/lib/python3.7/site-packages (from kfp<2.0.0,>=1.4.0->google-cloud-pipeline-components==0.1.1) (0.11.0)\n",
      "Requirement already satisfied: requests-toolbelt<1,>=0.8.0 in /opt/conda/lib/python3.7/site-packages (from kfp<2.0.0,>=1.4.0->google-cloud-pipeline-components==0.1.1) (0.9.1)\n",
      "Requirement already satisfied: pydantic<2,>=1.8.2 in /opt/conda/lib/python3.7/site-packages (from kfp<2.0.0,>=1.4.0->google-cloud-pipeline-components==0.1.1) (1.9.0)\n",
      "Requirement already satisfied: kubernetes<19,>=8.0.0 in /opt/conda/lib/python3.7/site-packages (from kfp<2.0.0,>=1.4.0->google-cloud-pipeline-components==0.1.1) (12.0.1)\n",
      "Requirement already satisfied: Deprecated<2,>=1.2.7 in /opt/conda/lib/python3.7/site-packages (from kfp<2.0.0,>=1.4.0->google-cloud-pipeline-components==0.1.1) (1.2.13)\n",
      "Requirement already satisfied: kfp-server-api<2.0.0,>=1.1.2 in /opt/conda/lib/python3.7/site-packages (from kfp<2.0.0,>=1.4.0->google-cloud-pipeline-components==0.1.1) (1.8.1)\n",
      "Requirement already satisfied: click<9,>=7.1.2 in /opt/conda/lib/python3.7/site-packages (from kfp<2.0.0,>=1.4.0->google-cloud-pipeline-components==0.1.1) (7.1.2)\n",
      "Requirement already satisfied: protobuf<4,>=3.13.0 in /opt/conda/lib/python3.7/site-packages (from kfp<2.0.0,>=1.4.0->google-cloud-pipeline-components==0.1.1) (3.19.4)\n",
      "Requirement already satisfied: google-api-python-client<2,>=1.7.8 in /opt/conda/lib/python3.7/site-packages (from kfp<2.0.0,>=1.4.0->google-cloud-pipeline-components==0.1.1) (1.12.10)\n",
      "Requirement already satisfied: cloudpickle<3,>=2.0.0 in /opt/conda/lib/python3.7/site-packages (from kfp<2.0.0,>=1.4.0->google-cloud-pipeline-components==0.1.1) (2.0.0)\n",
      "Requirement already satisfied: docstring-parser<1,>=0.7.3 in /opt/conda/lib/python3.7/site-packages (from kfp<2.0.0,>=1.4.0->google-cloud-pipeline-components==0.1.1) (0.13)\n",
      "Requirement already satisfied: fire<1,>=0.3.1 in /opt/conda/lib/python3.7/site-packages (from kfp<2.0.0,>=1.4.0->google-cloud-pipeline-components==0.1.1) (0.4.0)\n",
      "Requirement already satisfied: six in /opt/conda/lib/python3.7/site-packages (from absl-py<=0.11,>=0.9->kfp<2.0.0,>=1.4.0->google-cloud-pipeline-components==0.1.1) (1.15.0)\n",
      "Requirement already satisfied: wrapt<2,>=1.10 in /opt/conda/lib/python3.7/site-packages (from Deprecated<2,>=1.2.7->kfp<2.0.0,>=1.4.0->google-cloud-pipeline-components==0.1.1) (1.12.1)\n",
      "Requirement already satisfied: termcolor in /opt/conda/lib/python3.7/site-packages (from fire<1,>=0.3.1->kfp<2.0.0,>=1.4.0->google-cloud-pipeline-components==0.1.1) (1.1.0)\n",
      "Requirement already satisfied: setuptools>=40.3.0 in /opt/conda/lib/python3.7/site-packages (from google-api-core[grpc]<3.0.0dev,>=1.26.0->google-cloud-aiplatform>=1.0.0->google-cloud-pipeline-components==0.1.1) (59.8.0)\n",
      "Requirement already satisfied: requests<3.0.0dev,>=2.18.0 in /opt/conda/lib/python3.7/site-packages (from google-api-core[grpc]<3.0.0dev,>=1.26.0->google-cloud-aiplatform>=1.0.0->google-cloud-pipeline-components==0.1.1) (2.27.1)\n",
      "Requirement already satisfied: googleapis-common-protos<2.0dev,>=1.6.0 in /opt/conda/lib/python3.7/site-packages (from google-api-core[grpc]<3.0.0dev,>=1.26.0->google-cloud-aiplatform>=1.0.0->google-cloud-pipeline-components==0.1.1) (1.54.0)\n",
      "Requirement already satisfied: pytz in /opt/conda/lib/python3.7/site-packages (from google-api-core[grpc]<3.0.0dev,>=1.26.0->google-cloud-aiplatform>=1.0.0->google-cloud-pipeline-components==0.1.1) (2021.3)\n",
      "Requirement already satisfied: grpcio<2.0dev,>=1.29.0 in /opt/conda/lib/python3.7/site-packages (from google-api-core[grpc]<3.0.0dev,>=1.26.0->google-cloud-aiplatform>=1.0.0->google-cloud-pipeline-components==0.1.1) (1.44.0)\n",
      "Requirement already satisfied: httplib2<1dev,>=0.15.0 in /opt/conda/lib/python3.7/site-packages (from google-api-python-client<2,>=1.7.8->kfp<2.0.0,>=1.4.0->google-cloud-pipeline-components==0.1.1) (0.19.1)\n",
      "Requirement already satisfied: google-auth-httplib2>=0.0.3 in /opt/conda/lib/python3.7/site-packages (from google-api-python-client<2,>=1.7.8->kfp<2.0.0,>=1.4.0->google-cloud-pipeline-components==0.1.1) (0.1.0)\n",
      "Requirement already satisfied: cachetools<5.0,>=2.0.0 in /opt/conda/lib/python3.7/site-packages (from google-auth<2,>=1.6.1->kfp<2.0.0,>=1.4.0->google-cloud-pipeline-components==0.1.1) (4.2.4)\n",
      "Requirement already satisfied: pyasn1-modules>=0.2.1 in /opt/conda/lib/python3.7/site-packages (from google-auth<2,>=1.6.1->kfp<2.0.0,>=1.4.0->google-cloud-pipeline-components==0.1.1) (0.2.7)\n",
      "Requirement already satisfied: rsa<5,>=3.1.4 in /opt/conda/lib/python3.7/site-packages (from google-auth<2,>=1.6.1->kfp<2.0.0,>=1.4.0->google-cloud-pipeline-components==0.1.1) (4.8)\n",
      "Requirement already satisfied: google-resumable-media<3.0dev,>=0.6.0 in /opt/conda/lib/python3.7/site-packages (from google-cloud-bigquery<3.0.0dev,>=1.15.0->google-cloud-aiplatform>=1.0.0->google-cloud-pipeline-components==0.1.1) (2.1.0)\n",
      "Requirement already satisfied: google-cloud-core<3.0.0dev,>=1.4.1 in /opt/conda/lib/python3.7/site-packages (from google-cloud-bigquery<3.0.0dev,>=1.15.0->google-cloud-aiplatform>=1.0.0->google-cloud-pipeline-components==0.1.1) (1.7.2)\n",
      "Requirement already satisfied: python-dateutil<3.0dev,>=2.7.2 in /opt/conda/lib/python3.7/site-packages (from google-cloud-bigquery<3.0.0dev,>=1.15.0->google-cloud-aiplatform>=1.0.0->google-cloud-pipeline-components==0.1.1) (2.8.2)\n",
      "Requirement already satisfied: attrs>=17.4.0 in /opt/conda/lib/python3.7/site-packages (from jsonschema<4,>=3.0.1->kfp<2.0.0,>=1.4.0->google-cloud-pipeline-components==0.1.1) (20.3.0)\n",
      "Requirement already satisfied: pyrsistent>=0.14.0 in /opt/conda/lib/python3.7/site-packages (from jsonschema<4,>=3.0.1->kfp<2.0.0,>=1.4.0->google-cloud-pipeline-components==0.1.1) (0.18.1)\n",
      "Requirement already satisfied: importlib-metadata in /opt/conda/lib/python3.7/site-packages (from jsonschema<4,>=3.0.1->kfp<2.0.0,>=1.4.0->google-cloud-pipeline-components==0.1.1) (4.11.1)\n",
      "Requirement already satisfied: certifi in /opt/conda/lib/python3.7/site-packages (from kfp-server-api<2.0.0,>=1.1.2->kfp<2.0.0,>=1.4.0->google-cloud-pipeline-components==0.1.1) (2021.10.8)\n",
      "Requirement already satisfied: urllib3>=1.15 in /opt/conda/lib/python3.7/site-packages (from kfp-server-api<2.0.0,>=1.1.2->kfp<2.0.0,>=1.4.0->google-cloud-pipeline-components==0.1.1) (1.26.8)\n",
      "Requirement already satisfied: websocket-client!=0.40.0,!=0.41.*,!=0.42.*,>=0.32.0 in /opt/conda/lib/python3.7/site-packages (from kubernetes<19,>=8.0.0->kfp<2.0.0,>=1.4.0->google-cloud-pipeline-components==0.1.1) (1.3.1)\n",
      "Requirement already satisfied: requests-oauthlib in /opt/conda/lib/python3.7/site-packages (from kubernetes<19,>=8.0.0->kfp<2.0.0,>=1.4.0->google-cloud-pipeline-components==0.1.1) (1.3.1)\n",
      "Requirement already satisfied: pyparsing>=2.0.2 in /opt/conda/lib/python3.7/site-packages (from packaging>=14.3->google-cloud-aiplatform>=1.0.0->google-cloud-pipeline-components==0.1.1) (2.4.7)\n",
      "Requirement already satisfied: wheel in /opt/conda/lib/python3.7/site-packages (from strip-hints<1,>=0.1.8->kfp<2.0.0,>=1.4.0->google-cloud-pipeline-components==0.1.1) (0.37.1)\n",
      "Requirement already satisfied: google-crc32c<2.0dev,>=1.0 in /opt/conda/lib/python3.7/site-packages (from google-resumable-media<3.0dev,>=0.6.0->google-cloud-bigquery<3.0.0dev,>=1.15.0->google-cloud-aiplatform>=1.0.0->google-cloud-pipeline-components==0.1.1) (1.1.2)\n",
      "Requirement already satisfied: pyasn1<0.5.0,>=0.4.6 in /opt/conda/lib/python3.7/site-packages (from pyasn1-modules>=0.2.1->google-auth<2,>=1.6.1->kfp<2.0.0,>=1.4.0->google-cloud-pipeline-components==0.1.1) (0.4.8)\n",
      "Requirement already satisfied: idna<4,>=2.5 in /opt/conda/lib/python3.7/site-packages (from requests<3.0.0dev,>=2.18.0->google-api-core[grpc]<3.0.0dev,>=1.26.0->google-cloud-aiplatform>=1.0.0->google-cloud-pipeline-components==0.1.1) (3.3)\n",
      "Requirement already satisfied: charset-normalizer~=2.0.0 in /opt/conda/lib/python3.7/site-packages (from requests<3.0.0dev,>=2.18.0->google-api-core[grpc]<3.0.0dev,>=1.26.0->google-cloud-aiplatform>=1.0.0->google-cloud-pipeline-components==0.1.1) (2.0.12)\n",
      "Requirement already satisfied: zipp>=0.5 in /opt/conda/lib/python3.7/site-packages (from importlib-metadata->jsonschema<4,>=3.0.1->kfp<2.0.0,>=1.4.0->google-cloud-pipeline-components==0.1.1) (3.7.0)\n",
      "Requirement already satisfied: oauthlib>=3.0.0 in /opt/conda/lib/python3.7/site-packages (from requests-oauthlib->kubernetes<19,>=8.0.0->kfp<2.0.0,>=1.4.0->google-cloud-pipeline-components==0.1.1) (3.2.0)\n",
      "Requirement already satisfied: cffi>=1.0.0 in /opt/conda/lib/python3.7/site-packages (from google-crc32c<2.0dev,>=1.0->google-resumable-media<3.0dev,>=0.6.0->google-cloud-bigquery<3.0.0dev,>=1.15.0->google-cloud-aiplatform>=1.0.0->google-cloud-pipeline-components==0.1.1) (1.15.0)\n",
      "Requirement already satisfied: pycparser in /opt/conda/lib/python3.7/site-packages (from cffi>=1.0.0->google-crc32c<2.0dev,>=1.0->google-resumable-media<3.0dev,>=0.6.0->google-cloud-bigquery<3.0.0dev,>=1.15.0->google-cloud-aiplatform>=1.0.0->google-cloud-pipeline-components==0.1.1) (2.21)\n"
     ]
    }
   ],
   "source": [
    "!pip3 install --user google-cloud-pipeline-components==0.1.1 --upgrade"
   ]
  },
  {
   "cell_type": "markdown",
   "metadata": {
    "id": "hhq5zEbGg0XX"
   },
   "source": [
    "### Restart the kernel\n",
    "\n",
    "After you install the additional packages, you need to restart the notebook kernel so it can find the packages."
   ]
  },
  {
   "cell_type": "markdown",
   "metadata": {
    "id": "XoEqT2Y4DJmf"
   },
   "source": [
    "### Import libraries and define constants"
   ]
  },
  {
   "cell_type": "code",
   "execution_count": 2,
   "metadata": {
    "id": "UFDUBveR5UfJ",
    "tags": [
     "flake8-noqa-cell"
    ]
   },
   "outputs": [],
   "source": [
    "import os\n",
    "from datetime import datetime\n",
    "\n",
    "import kfp\n",
    "from google.cloud import aiplatform\n",
    "from google_cloud_pipeline_components import aiplatform as gcc_aip\n",
    "from kfp.v2 import compiler\n",
    "from kfp.v2.dsl import component\n",
    "from kfp.v2.google import experimental"
   ]
  },
  {
   "cell_type": "markdown",
   "metadata": {},
   "source": [
    "Check the versions of the packages you installed.  The KFP SDK version should be >=1.6."
   ]
  },
  {
   "cell_type": "code",
   "execution_count": 3,
   "metadata": {
    "id": "NN0mULkEeb84"
   },
   "outputs": [
    {
     "name": "stdout",
     "output_type": "stream",
     "text": [
      "KFP SDK version: 1.8.10\n"
     ]
    }
   ],
   "source": [
    "print(f\"KFP SDK version: {kfp.__version__}\")"
   ]
  },
  {
   "cell_type": "markdown",
   "metadata": {
    "id": "WReHDGG5g0XY"
   },
   "source": [
    "#### Set your environment variables\n",
    "Next, we'll set up our project variables, like GCP project ID, the bucket and region. Also, to avoid name collisions between resources created, we'll create a timestamp and append it onto the name of resources we create in this lab."
   ]
  },
  {
   "cell_type": "code",
   "execution_count": 4,
   "metadata": {
    "id": "oM1iC_MfAts1"
   },
   "outputs": [],
   "source": [
    "# Change below if necessary\n",
    "PROJECT = !gcloud config get-value project  # noqa: E999\n",
    "PROJECT = PROJECT[0]\n",
    "BUCKET = PROJECT\n",
    "REGION = \"us-central1\"\n",
    "\n",
    "TIMESTAMP = datetime.now().strftime(\"%Y%m%d%H%M%S\")\n",
    "\n",
    "PIPELINE_ROOT = f\"gs://{BUCKET}/pipeline_root\""
   ]
  },
  {
   "cell_type": "code",
   "execution_count": 5,
   "metadata": {},
   "outputs": [
    {
     "name": "stdout",
     "output_type": "stream",
     "text": [
      "gs://qwiklabs-gcp-04-853e5675f5e8/pipeline_root\n"
     ]
    }
   ],
   "source": [
    "print(PIPELINE_ROOT)"
   ]
  },
  {
   "cell_type": "markdown",
   "metadata": {
    "id": "ucvCsknMCims"
   },
   "source": [
    "We'll save pipeline artifacts in a directory called `pipeline_root` within our bucket. Validate access to your Cloud Storage bucket by examining its contents. It should be empty at this stage. "
   ]
  },
  {
   "cell_type": "code",
   "execution_count": 6,
   "metadata": {
    "id": "vhOb7YnwClBb"
   },
   "outputs": [
    {
     "name": "stdout",
     "output_type": "stream",
     "text": [
      "         0  2022-04-23T12:24:54Z  gs://qwiklabs-gcp-04-853e5675f5e8/pipeline_root/#1650716694684977  metageneration=1\n",
      "                                 gs://qwiklabs-gcp-04-853e5675f5e8/pipeline_root/1076138843678/\n",
      "TOTAL: 1 objects, 0 bytes (0 B)\n"
     ]
    }
   ],
   "source": [
    "!gsutil ls -la gs://{BUCKET}/pipeline_root"
   ]
  },
  {
   "cell_type": "markdown",
   "metadata": {},
   "source": [
    "### Give your default service account storage bucket access\n",
    "This pipeline will read `.csv` files from Cloud storage for training and will write model checkpoints and artifacts to a specified bucket. So, we need to give our default service account `storage.objectAdmin` access. You can do this by running the command below in Cloud Shell:"
   ]
  },
  {
   "cell_type": "markdown",
   "metadata": {},
   "source": [
    "```bash\n",
    "PROJECT=$(gcloud config get-value project)\n",
    "PROJECT_NUMBER=$(gcloud projects list --filter=\"name=$PROJECT\" --format=\"value(PROJECT_NUMBER)\")\n",
    "gcloud projects add-iam-policy-binding $PROJECT \\\n",
    "    --member=\"serviceAccount:$PROJECT_NUMBER-compute@developer.gserviceaccount.com\" \\\n",
    "    --role=\"roles/storage.objectAdmin\"\n",
    "```"
   ]
  },
  {
   "cell_type": "markdown",
   "metadata": {},
   "source": [
    "Note, it may take some time for the permissions to propogate to the service account. You can confirm the status from the [IAM page here](https://console.cloud.google.com/iam-admin/iam). "
   ]
  },
  {
   "cell_type": "markdown",
   "metadata": {
    "id": "Z4MjdglUT3Sw"
   },
   "source": [
    "## Define a pipeline that uses the components\n"
   ]
  },
  {
   "cell_type": "markdown",
   "metadata": {
    "id": "jpaD14TxZyVm"
   },
   "source": [
    "We'll start by defining a component with which the custom training job is run.  For this example, this component doesn't do anything (but run a print statement)."
   ]
  },
  {
   "cell_type": "code",
   "execution_count": 7,
   "metadata": {
    "id": "5m_ZU0GzBMRi"
   },
   "outputs": [],
   "source": [
    "@component\n",
    "def training_op(input1: str):\n",
    "    print(f\"VertexAI pipeline: {input1}\")"
   ]
  },
  {
   "cell_type": "markdown",
   "metadata": {
    "id": "2fjGiImBezMo"
   },
   "source": [
    "Now, you define the pipeline.  \n",
    "\n",
    "The `experimental.run_as_aiplatform_custom_job` method takes as args the component defined above, and the list of `worker_pool_specs`— in this case  one— with which the custom training job is configured. \n",
    "See [full function code here](https://github.com/kubeflow/pipelines/blob/master/sdk/python/kfp/v2/google/experimental/custom_job.py)\n",
    "\n",
    "Then, [`google_cloud_pipeline_components`](https://github.com/kubeflow/pipelines/tree/master/components/google-cloud) components are used to define the rest of the pipeline: upload the model, create an endpoint, and deploy the model to the endpoint. (While not shown in this example, the model deploy will create an endpoint if one is not provided). \n",
    "\n",
    "Note that the code we're using the exact same code that we developed in the previous lab [`1_training_at_scale_vertex.ipynb`](1_training_at_scale_vertex.ipynb). In fact, we are pulling the same python package executor image URI that we pushed to Cloud storage in that lab. Note that we also include the `SERVING_CONTAINER_IMAGE_URI` since we'll need to specify that when uploading and deploying our model."
   ]
  },
  {
   "cell_type": "code",
   "execution_count": 8,
   "metadata": {},
   "outputs": [],
   "source": [
    "# Output directory and job_name\n",
    "OUTDIR = f\"gs://{BUCKET}/taxifare/trained_model_{TIMESTAMP}\"\n",
    "MODEL_DISPLAY_NAME = f\"taxifare_{TIMESTAMP}\"\n",
    "\n",
    "PYTHON_PACKAGE_URIS = f\"gs://{BUCKET}/taxifare/taxifare_trainer-0.1.tar.gz\"\n",
    "MACHINE_TYPE = \"n1-standard-16\"\n",
    "REPLICA_COUNT = 1\n",
    "PYTHON_PACKAGE_EXECUTOR_IMAGE_URI = (\n",
    "    \"us-docker.pkg.dev/vertex-ai/training/tf-cpu.2-3:latest\"\n",
    ")\n",
    "SERVING_CONTAINER_IMAGE_URI = (\n",
    "    \"us-docker.pkg.dev/vertex-ai/prediction/tf2-cpu.2-3:latest\"\n",
    ")\n",
    "PYTHON_MODULE = \"trainer.task\"\n",
    "\n",
    "# Model and training hyperparameters\n",
    "BATCH_SIZE = 500\n",
    "NUM_EXAMPLES_TO_TRAIN_ON = 10000\n",
    "NUM_EVALS = 1000\n",
    "NBUCKETS = 10\n",
    "LR = 0.001\n",
    "NNSIZE = \"32 8\"\n",
    "\n",
    "# GCS paths\n",
    "GCS_PROJECT_PATH = f\"gs://{BUCKET}/taxifare\"\n",
    "DATA_PATH = f\"{GCS_PROJECT_PATH}/data\"\n",
    "TRAIN_DATA_PATH = f\"{DATA_PATH}/taxi-train*\"\n",
    "EVAL_DATA_PATH = f\"{DATA_PATH}/taxi-valid*\""
   ]
  },
  {
   "cell_type": "markdown",
   "metadata": {},
   "source": [
    "### Lab Task #1. \n",
    "\n",
    "In the cell below we define the pipeline for training and deploying our taxifare model. Fill in the code to accomplish four things:\n",
    "1. define the approrpriate `worker_pool_spec` for the training job\n",
    "1. use `ModelUploadOp` to upload the model artifacts after training to create the model in Vertex AI\n",
    "1. create an endpoing using `EndpointCreateOp`\n",
    "1. finally, deploy the model you uploaded to the endpoint you created in the steps above."
   ]
  },
  {
   "cell_type": "code",
   "execution_count": 9,
   "metadata": {
    "id": "lwBLkQygbxjM"
   },
   "outputs": [],
   "source": [
    "@kfp.dsl.pipeline(name=\"taxifare--train-upload-endpoint-deploy\")\n",
    "def pipeline(\n",
    "    project: str = PROJECT,\n",
    "    model_display_name: str = MODEL_DISPLAY_NAME,\n",
    "):\n",
    "    train_task = training_op(\"taxifare training pipeline\")\n",
    "    experimental.run_as_aiplatform_custom_job(\n",
    "        train_task,\n",
    "        display_name=f\"pipelines-train-{TIMESTAMP}\",\n",
    "        worker_pool_specs= [\n",
    "        # TODO:\n",
    "            {\n",
    "                \"pythonPackageSpec\": {\n",
    "                    \"executor_image_uri\": PYTHON_PACKAGE_EXECUTOR_IMAGE_URI,\n",
    "                    \"package_uris\": [PYTHON_PACKAGE_URIS],\n",
    "                    \"python_module\": PYTHON_MODULE,\n",
    "                    \"args\": [\n",
    "                        f\"--eval_data_path={EVAL_DATA_PATH}\",\n",
    "                        f\"--output_dir={OUTDIR}\",\n",
    "                        f\"--train_data_path={TRAIN_DATA_PATH}\",\n",
    "                        f\"--batch_size={BATCH_SIZE}\",\n",
    "                        f\"--num_examples_to_train_on={NUM_EXAMPLES_TO_TRAIN_ON}\",  # noqa: E501\n",
    "                        f\"--num_evals={NUM_EVALS}\",\n",
    "                        f\"--nbuckets={NBUCKETS}\",\n",
    "                        f\"--lr={LR}\",\n",
    "                        f\"--nnsize={NNSIZE}\",\n",
    "                    ],\n",
    "                },\n",
    "                \"replica_count\": f\"{REPLICA_COUNT}\",\n",
    "                \"machineSpec\": {\n",
    "                    \"machineType\": f\"{MACHINE_TYPE}\",\n",
    "                }\n",
    "            }\n",
    "        ] \n",
    "    )\n",
    "\n",
    "    model_upload_op = gcc_aip.ModelUploadOp(\n",
    "        # TODO:\n",
    "        project=f\"{PROJECT}\",\n",
    "        display_name=f\"pipelines-ModelUpload-{TIMESTAMP}\",\n",
    "        artifact_uri=f\"{OUTDIR}/savedmodel\",\n",
    "        serving_container_image_uri=f\"{SERVING_CONTAINER_IMAGE_URI}\",\n",
    "        serving_container_environment_variables={\"NOT_USED\": \"NO_VALUE\"}\n",
    "    )\n",
    "    model_upload_op.after(train_task)\n",
    "\n",
    "    endpoint_create_op = gcc_aip.EndpointCreateOp(\n",
    "        # TODO:\n",
    "        project=f\"{PROJECT}\",\n",
    "        display_name=f\"pipelines-EndpointCreate-{TIMESTAMP}\",\n",
    "    )\n",
    "    model_deploy_op = gcc_aip.ModelDeployOp(\n",
    "        # TODO:\n",
    "        project=f\"{PROJECT}\",\n",
    "        endpoint=endpoint_create_op.outputs[\"endpoint\"],\n",
    "        model=model_upload_op.outputs[\"model\"],\n",
    "        deployed_model_display_name=f\"{MODEL_DISPLAY_NAME}\",\n",
    "        machine_type=f\"{MACHINE_TYPE}\"\n",
    "    )"
   ]
  },
  {
   "cell_type": "markdown",
   "metadata": {
    "id": "2Hl1iYEKSzjP"
   },
   "source": [
    "## Compile and run the pipeline\n",
    "\n",
    "Now, you're ready to compile the pipeline:"
   ]
  },
  {
   "cell_type": "code",
   "execution_count": 10,
   "metadata": {
    "id": "ycRc83B6bbfO"
   },
   "outputs": [
    {
     "name": "stderr",
     "output_type": "stream",
     "text": [
      "/opt/conda/lib/python3.7/site-packages/kfp/v2/compiler/compiler.py:1266: FutureWarning: APIs imported from the v1 namespace (e.g. kfp.dsl, kfp.components, etc) will not be supported by the v2 compiler since v2.0.0\n",
      "  category=FutureWarning,\n",
      "/opt/conda/lib/python3.7/site-packages/kfp/v2/google/experimental/custom_job.py:78: FutureWarning: This function will be deprecated in v2.0.0\n",
      "  'This function will be deprecated in v2.0.0', category=FutureWarning,\n"
     ]
    }
   ],
   "source": [
    "if not os.path.isdir(\"vertex_pipelines\"):\n",
    "    os.mkdir(\"vertex_pipelines\")\n",
    "\n",
    "pipeline_json_fpath = \"./vertex_pipelines/train_upload_endpoint_deploy.json\"\n",
    "compiler.Compiler().compile(\n",
    "    pipeline_func=pipeline,\n",
    "    package_path=pipeline_json_fpath,\n",
    ")"
   ]
  },
  {
   "cell_type": "markdown",
   "metadata": {
    "id": "qfNuzFswBB4g"
   },
   "source": [
    "The pipeline compilation generates the `train_upload_endpoint_deploy.json` job spec file.\n",
    "\n",
    "Next, instantiate the pipeline job object:"
   ]
  },
  {
   "cell_type": "markdown",
   "metadata": {},
   "source": [
    "### Lab Task #2.\n",
    "\n",
    "Complete the code in the cell below to fill in the missing arguments.\n"
   ]
  },
  {
   "cell_type": "code",
   "execution_count": 11,
   "metadata": {},
   "outputs": [
    {
     "data": {
      "text/plain": [
       "'./vertex_pipelines/train_upload_endpoint_deploy.json'"
      ]
     },
     "execution_count": 11,
     "metadata": {},
     "output_type": "execute_result"
    }
   ],
   "source": [
    "pipeline_json_fpath"
   ]
  },
  {
   "cell_type": "code",
   "execution_count": 12,
   "metadata": {
    "id": "Hl5Q74_gkW2c"
   },
   "outputs": [],
   "source": [
    "# TODO:\n",
    "# The path of PipelineJob or PipelineSpec JSON file\n",
    "pipeline_job = aiplatform.pipeline_jobs.PipelineJob(\n",
    "    display_name= \"taxifare_pipeline\",\n",
    "    template_path= pipeline_json_fpath,  \n",
    "    pipeline_root= \"vertex_pipelines\",\n",
    "    project=PROJECT,\n",
    "    location=REGION,\n",
    ")"
   ]
  },
  {
   "cell_type": "code",
   "execution_count": 13,
   "metadata": {},
   "outputs": [],
   "source": [
    "pipeline_job = aiplatform.pipeline_jobs.PipelineJob(\n",
    "    display_name=\"taxifare_pipeline\",\n",
    "    template_path=\"./vertex_pipelines/train_upload_endpoint_deploy.json\",\n",
    "    pipeline_root=f\"{PIPELINE_ROOT}\",\n",
    "    project=PROJECT,\n",
    "    location=REGION,\n",
    ")"
   ]
  },
  {
   "cell_type": "markdown",
   "metadata": {
    "id": "_jrn6saiQsPh"
   },
   "source": [
    "Then, you run the defined pipeline like this: "
   ]
  },
  {
   "cell_type": "code",
   "execution_count": 14,
   "metadata": {
    "id": "R4Ha4FoDQpkd"
   },
   "outputs": [
    {
     "name": "stdout",
     "output_type": "stream",
     "text": [
      "INFO:google.cloud.aiplatform.pipeline_jobs:Creating PipelineJob\n",
      "INFO:google.cloud.aiplatform.pipeline_jobs:PipelineJob created. Resource name: projects/1076138843678/locations/us-central1/pipelineJobs/taxifare--train-upload-endpoint-deploy-20220423124716\n",
      "INFO:google.cloud.aiplatform.pipeline_jobs:To use this PipelineJob in another session:\n",
      "INFO:google.cloud.aiplatform.pipeline_jobs:pipeline_job = aiplatform.PipelineJob.get('projects/1076138843678/locations/us-central1/pipelineJobs/taxifare--train-upload-endpoint-deploy-20220423124716')\n",
      "INFO:google.cloud.aiplatform.pipeline_jobs:View Pipeline Job:\n",
      "https://console.cloud.google.com/vertex-ai/locations/us-central1/pipelines/runs/taxifare--train-upload-endpoint-deploy-20220423124716?project=1076138843678\n",
      "INFO:google.cloud.aiplatform.pipeline_jobs:PipelineJob projects/1076138843678/locations/us-central1/pipelineJobs/taxifare--train-upload-endpoint-deploy-20220423124716 current state:\n",
      "PipelineState.PIPELINE_STATE_RUNNING\n",
      "INFO:google.cloud.aiplatform.pipeline_jobs:PipelineJob projects/1076138843678/locations/us-central1/pipelineJobs/taxifare--train-upload-endpoint-deploy-20220423124716 current state:\n",
      "PipelineState.PIPELINE_STATE_RUNNING\n",
      "INFO:google.cloud.aiplatform.pipeline_jobs:PipelineJob projects/1076138843678/locations/us-central1/pipelineJobs/taxifare--train-upload-endpoint-deploy-20220423124716 current state:\n",
      "PipelineState.PIPELINE_STATE_RUNNING\n",
      "INFO:google.cloud.aiplatform.pipeline_jobs:PipelineJob projects/1076138843678/locations/us-central1/pipelineJobs/taxifare--train-upload-endpoint-deploy-20220423124716 current state:\n",
      "PipelineState.PIPELINE_STATE_RUNNING\n",
      "INFO:google.cloud.aiplatform.pipeline_jobs:PipelineJob projects/1076138843678/locations/us-central1/pipelineJobs/taxifare--train-upload-endpoint-deploy-20220423124716 current state:\n",
      "PipelineState.PIPELINE_STATE_RUNNING\n",
      "INFO:google.cloud.aiplatform.pipeline_jobs:PipelineJob projects/1076138843678/locations/us-central1/pipelineJobs/taxifare--train-upload-endpoint-deploy-20220423124716 current state:\n",
      "PipelineState.PIPELINE_STATE_RUNNING\n",
      "INFO:google.cloud.aiplatform.pipeline_jobs:PipelineJob projects/1076138843678/locations/us-central1/pipelineJobs/taxifare--train-upload-endpoint-deploy-20220423124716 current state:\n",
      "PipelineState.PIPELINE_STATE_RUNNING\n",
      "INFO:google.cloud.aiplatform.pipeline_jobs:PipelineJob projects/1076138843678/locations/us-central1/pipelineJobs/taxifare--train-upload-endpoint-deploy-20220423124716 current state:\n",
      "PipelineState.PIPELINE_STATE_RUNNING\n",
      "INFO:google.cloud.aiplatform.pipeline_jobs:PipelineJob projects/1076138843678/locations/us-central1/pipelineJobs/taxifare--train-upload-endpoint-deploy-20220423124716 current state:\n",
      "PipelineState.PIPELINE_STATE_RUNNING\n",
      "INFO:google.cloud.aiplatform.pipeline_jobs:PipelineJob projects/1076138843678/locations/us-central1/pipelineJobs/taxifare--train-upload-endpoint-deploy-20220423124716 current state:\n",
      "PipelineState.PIPELINE_STATE_RUNNING\n",
      "INFO:google.cloud.aiplatform.pipeline_jobs:PipelineJob projects/1076138843678/locations/us-central1/pipelineJobs/taxifare--train-upload-endpoint-deploy-20220423124716 current state:\n",
      "PipelineState.PIPELINE_STATE_RUNNING\n",
      "INFO:google.cloud.aiplatform.pipeline_jobs:PipelineJob projects/1076138843678/locations/us-central1/pipelineJobs/taxifare--train-upload-endpoint-deploy-20220423124716 current state:\n",
      "PipelineState.PIPELINE_STATE_RUNNING\n",
      "INFO:google.cloud.aiplatform.pipeline_jobs:PipelineJob projects/1076138843678/locations/us-central1/pipelineJobs/taxifare--train-upload-endpoint-deploy-20220423124716 current state:\n",
      "PipelineState.PIPELINE_STATE_RUNNING\n",
      "INFO:google.cloud.aiplatform.pipeline_jobs:PipelineJob projects/1076138843678/locations/us-central1/pipelineJobs/taxifare--train-upload-endpoint-deploy-20220423124716 current state:\n",
      "PipelineState.PIPELINE_STATE_RUNNING\n",
      "INFO:google.cloud.aiplatform.pipeline_jobs:PipelineJob projects/1076138843678/locations/us-central1/pipelineJobs/taxifare--train-upload-endpoint-deploy-20220423124716 current state:\n",
      "PipelineState.PIPELINE_STATE_RUNNING\n",
      "INFO:google.cloud.aiplatform.pipeline_jobs:PipelineJob projects/1076138843678/locations/us-central1/pipelineJobs/taxifare--train-upload-endpoint-deploy-20220423124716 current state:\n",
      "PipelineState.PIPELINE_STATE_RUNNING\n",
      "INFO:google.cloud.aiplatform.pipeline_jobs:PipelineJob projects/1076138843678/locations/us-central1/pipelineJobs/taxifare--train-upload-endpoint-deploy-20220423124716 current state:\n",
      "PipelineState.PIPELINE_STATE_RUNNING\n",
      "INFO:google.cloud.aiplatform.pipeline_jobs:PipelineJob projects/1076138843678/locations/us-central1/pipelineJobs/taxifare--train-upload-endpoint-deploy-20220423124716 current state:\n",
      "PipelineState.PIPELINE_STATE_RUNNING\n",
      "INFO:google.cloud.aiplatform.pipeline_jobs:PipelineJob projects/1076138843678/locations/us-central1/pipelineJobs/taxifare--train-upload-endpoint-deploy-20220423124716 current state:\n",
      "PipelineState.PIPELINE_STATE_RUNNING\n",
      "INFO:google.cloud.aiplatform.pipeline_jobs:PipelineJob projects/1076138843678/locations/us-central1/pipelineJobs/taxifare--train-upload-endpoint-deploy-20220423124716 current state:\n",
      "PipelineState.PIPELINE_STATE_RUNNING\n",
      "INFO:google.cloud.aiplatform.pipeline_jobs:PipelineJob projects/1076138843678/locations/us-central1/pipelineJobs/taxifare--train-upload-endpoint-deploy-20220423124716 current state:\n",
      "PipelineState.PIPELINE_STATE_RUNNING\n",
      "INFO:google.cloud.aiplatform.pipeline_jobs:PipelineJob projects/1076138843678/locations/us-central1/pipelineJobs/taxifare--train-upload-endpoint-deploy-20220423124716 current state:\n",
      "PipelineState.PIPELINE_STATE_RUNNING\n",
      "INFO:google.cloud.aiplatform.pipeline_jobs:PipelineJob projects/1076138843678/locations/us-central1/pipelineJobs/taxifare--train-upload-endpoint-deploy-20220423124716 current state:\n",
      "PipelineState.PIPELINE_STATE_RUNNING\n",
      "INFO:google.cloud.aiplatform.pipeline_jobs:PipelineJob run completed. Resource name: projects/1076138843678/locations/us-central1/pipelineJobs/taxifare--train-upload-endpoint-deploy-20220423124716\n"
     ]
    }
   ],
   "source": [
    "pipeline_job.run()"
   ]
  },
  {
   "cell_type": "markdown",
   "metadata": {
    "id": "GvBTCP318RKs"
   },
   "source": [
    "Click on the generated link above starting with `https://console.cloud.google.com/vertex-ai/locations/[location]/pipelines/runs/` to see your run in the Cloud Console.  It should look something like this:\n",
    "\n",
    "<img src='../assets/taxifare_vertex_pipeline.png' width='80%'>"
   ]
  },
  {
   "cell_type": "markdown",
   "metadata": {
    "id": "s4jxmfyT26gj"
   },
   "source": [
    "Copyright 2021 Google Inc. Licensed under the Apache License, Version 2.0 (the \"License\"); you may not use this file except in compliance with the License. You may obtain a copy of the License at http://www.apache.org/licenses/LICENSE-2.0 Unless required by applicable law or agreed to in writing, software distributed under the License is distributed on an \"AS IS\" BASIS, WITHOUT WARRANTIES OR CONDITIONS OF ANY KIND, either express or implied. See the License for the specific language governing permissions and limitations under the License"
   ]
  }
 ],
 "metadata": {
  "colab": {
   "collapsed_sections": [],
   "name": "google_cloud_pipeline_components_model_train_upload_deploy.ipynb",
   "toc_visible": true
  },
  "environment": {
   "kernel": "python3",
   "name": "tf2-gpu.2-6.m90",
   "type": "gcloud",
   "uri": "gcr.io/deeplearning-platform-release/tf2-gpu.2-6:m90"
  },
  "kernelspec": {
   "display_name": "Python 3",
   "language": "python",
   "name": "python3"
  },
  "language_info": {
   "codemirror_mode": {
    "name": "ipython",
    "version": 3
   },
   "file_extension": ".py",
   "mimetype": "text/x-python",
   "name": "python",
   "nbconvert_exporter": "python",
   "pygments_lexer": "ipython3",
   "version": "3.7.12"
  }
 },
 "nbformat": 4,
 "nbformat_minor": 4
}
