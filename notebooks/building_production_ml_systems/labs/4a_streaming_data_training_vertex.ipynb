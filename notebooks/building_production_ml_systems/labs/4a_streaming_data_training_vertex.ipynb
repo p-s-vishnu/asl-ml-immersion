{
 "cells": [
  {
   "cell_type": "markdown",
   "metadata": {},
   "source": [
    "# Training a model with `traffic_last_5min` feature\n",
    "\n",
    "\n",
    "## Introduction\n",
    "\n",
    "In this notebook, we'll train a taxifare prediction model but this time with an additional feature of `traffic_last_5min`."
   ]
  },
  {
   "cell_type": "code",
   "execution_count": 1,
   "metadata": {},
   "outputs": [
    {
     "name": "stdout",
     "output_type": "stream",
     "text": [
      "2.8.0\n"
     ]
    }
   ],
   "source": [
    "import os\n",
    "import shutil\n",
    "from datetime import datetime\n",
    "\n",
    "import pandas as pd\n",
    "import tensorflow as tf\n",
    "from google.cloud import aiplatform\n",
    "from matplotlib import pyplot as plt\n",
    "from tensorflow import keras\n",
    "from tensorflow.keras.callbacks import TensorBoard\n",
    "from tensorflow.keras.layers import Dense, DenseFeatures\n",
    "from tensorflow.keras.models import Sequential\n",
    "\n",
    "print(tf.__version__)\n",
    "%matplotlib inline"
   ]
  },
  {
   "cell_type": "code",
   "execution_count": 2,
   "metadata": {},
   "outputs": [
    {
     "name": "stdout",
     "output_type": "stream",
     "text": [
      "env: PROJECT=qwiklabs-gcp-04-853e5675f5e8\n",
      "env: BUCKET=qwiklabs-gcp-04-853e5675f5e8\n",
      "env: REGION=us-central1\n"
     ]
    }
   ],
   "source": [
    "# Change below if necessary\n",
    "PROJECT = !gcloud config get-value project  # noqa: E999\n",
    "PROJECT = PROJECT[0]\n",
    "BUCKET = PROJECT\n",
    "REGION = \"us-central1\"\n",
    "\n",
    "%env PROJECT=$PROJECT\n",
    "%env BUCKET=$BUCKET\n",
    "%env REGION=$REGION"
   ]
  },
  {
   "cell_type": "code",
   "execution_count": 3,
   "metadata": {},
   "outputs": [
    {
     "name": "stderr",
     "output_type": "stream",
     "text": [
      "Updated property [core/project].\n",
      "Updated property [ai/region].\n"
     ]
    }
   ],
   "source": [
    "%%bash\n",
    "gcloud config set project $PROJECT\n",
    "gcloud config set ai/region $REGION"
   ]
  },
  {
   "cell_type": "markdown",
   "metadata": {},
   "source": [
    "## Load raw data"
   ]
  },
  {
   "cell_type": "code",
   "execution_count": 4,
   "metadata": {},
   "outputs": [
    {
     "name": "stdout",
     "output_type": "stream",
     "text": [
      "-rw-r--r-- 1 jupyter jupyter 2186310 Mar 15 10:40 ../data/taxi-traffic-test.csv\n",
      "-rw-r--r-- 1 jupyter jupyter 9713118 Mar 15 10:40 ../data/taxi-traffic-train.csv\n",
      "-rw-r--r-- 1 jupyter jupyter 2036826 Mar 15 10:40 ../data/taxi-traffic-valid.csv\n"
     ]
    }
   ],
   "source": [
    "!ls -l ../data/taxi-traffic*"
   ]
  },
  {
   "cell_type": "code",
   "execution_count": 5,
   "metadata": {},
   "outputs": [
    {
     "name": "stdout",
     "output_type": "stream",
     "text": [
      "==> ../data/taxi-traffic-test.csv <==\n",
      "15.7,6,12,-73.990072,40.758199,-73.974686,40.742004,2089\n",
      "6.1,7,2,-73.95647,40.771226,-73.971845,40.750089,1738\n",
      "4.1,6,18,-73.987871,40.759855,-73.996375,40.763728,2971\n",
      "5.7,2,18,-73.974177,40.761154,-73.980953,40.769357,2320\n",
      "7.4,4,23,-73.924908,40.741879,-73.897524,40.747867,1491\n",
      "20.5,1,15,-73.957528,40.766847,-73.870813,40.774044,1794\n",
      "6.5,6,9,-73.996553,40.725558,-73.992503,40.737248,2341\n",
      "4.1,4,11,-73.98353,40.746821000000004,-73.976831,40.751082000000004,2329\n",
      "10.5,3,18,-73.863998,40.770439,-73.91671099999999,40.773011,2318\n",
      "10.1,6,1,-73.979685,40.727247999999996,-73.952508,40.772492,1455\n",
      "\n",
      "==> ../data/taxi-traffic-train.csv <==\n",
      "6.1,2,0,-73.98689499999999,40.729723,-74.00631,40.739407,1129\n",
      "9.7,7,0,-73.94578299999999,40.777807,-73.97539,40.757712,2876\n",
      "5.3,6,0,-74.00644,40.739349,-73.999379,40.731804,3950\n",
      "7.3,5,0,-73.96611800000001,40.753983000000005,-73.945605,40.782802000000004,1334\n",
      "6.5,7,0,-73.974153,40.762767,-73.989152,40.742727,2623\n",
      "22.9,1,0,-73.977188,40.774063,-73.962647,40.654768,2833\n",
      "22.9,2,0,-74.00188,40.745946999999994,-73.968497,40.639375,2002\n",
      "6.1,3,0,-73.994051,40.751077,-73.977333,40.778875,661\n",
      "5.3,5,0,-73.980898,40.744515,-73.973383,40.753496999999996,1938\n",
      "6.5,7,0,-74.00540600000001,40.708533,-74.005498,40.725617,2781\n",
      "\n",
      "==> ../data/taxi-traffic-valid.csv <==\n",
      "7.7,2,11,-73.97463,40.742118,-73.98544,40.760585999999996,1059\n",
      "30.1,7,1,-73.956921,40.777588,-73.965109,40.673271,2225\n",
      "7.7,6,13,-73.98073199999999,40.742109,-73.96415400000001,40.764891999999996,1994\n",
      "24.67,4,4,-73.953387,40.822733,-73.878697,40.755373,321\n",
      "7.7,2,1,-73.982304,40.723572,-73.972778,40.74928,1115\n",
      "8.1,5,18,-73.98474300000001,40.749171999999994,-74.00232,40.72825,2697\n",
      "6.1,4,1,-73.983588,40.72224,-73.997302,40.720786,868\n",
      "19.07,3,1,-73.94446500000001,40.807284,-73.876339,40.763073999999996,711\n",
      "12.5,4,10,-73.98696899999999,40.722343,-74.01621,40.715067,1990\n",
      "5.7,7,18,-74.007972,40.738759,-73.991973,40.73704,2048\n"
     ]
    }
   ],
   "source": [
    "!head ../data/taxi-traffic*"
   ]
  },
  {
   "cell_type": "markdown",
   "metadata": {},
   "source": [
    "## Use tf.data to read the CSV files\n",
    "\n",
    "These functions for reading data from the csv files are similar to what we used in the Introduction to Tensorflow module. Note that here we have an addtional feature `traffic_last_5min`."
   ]
  },
  {
   "cell_type": "code",
   "execution_count": 6,
   "metadata": {},
   "outputs": [],
   "source": [
    "CSV_COLUMNS = [\n",
    "    \"fare_amount\",\n",
    "    \"dayofweek\",\n",
    "    \"hourofday\",\n",
    "    \"pickup_longitude\",\n",
    "    \"pickup_latitude\",\n",
    "    \"dropoff_longitude\",\n",
    "    \"dropoff_latitude\",\n",
    "    \"traffic_last_5min\",\n",
    "]\n",
    "LABEL_COLUMN = \"fare_amount\"\n",
    "DEFAULTS = [[0.0], [0.0], [0.0], [0.0], [0.0], [0.0], [0.0], [0.0]]\n",
    "\n",
    "\n",
    "def features_and_labels(row_data):\n",
    "    label = row_data.pop(LABEL_COLUMN)\n",
    "    features = row_data\n",
    "    return features, label\n",
    "\n",
    "\n",
    "def create_dataset(pattern, batch_size=1, mode=tf.estimator.ModeKeys.EVAL):\n",
    "    dataset = tf.data.experimental.make_csv_dataset(\n",
    "        pattern, batch_size, CSV_COLUMNS, DEFAULTS\n",
    "    )\n",
    "\n",
    "    dataset = dataset.map(features_and_labels)\n",
    "\n",
    "    if mode == tf.estimator.ModeKeys.TRAIN:\n",
    "        dataset = dataset.shuffle(buffer_size=1000).repeat()\n",
    "\n",
    "    # take advantage of multi-threading; 1=AUTOTUNE\n",
    "    dataset = dataset.prefetch(1)\n",
    "    return dataset"
   ]
  },
  {
   "cell_type": "code",
   "execution_count": 7,
   "metadata": {},
   "outputs": [],
   "source": [
    "INPUT_COLS = [\n",
    "    \"dayofweek\",\n",
    "    \"hourofday\",\n",
    "    \"pickup_longitude\",\n",
    "    \"pickup_latitude\",\n",
    "    \"dropoff_longitude\",\n",
    "    \"dropoff_latitude\",\n",
    "    \"traffic_last_5min\",\n",
    "]\n",
    "\n",
    "# Create input layer of feature columns\n",
    "feature_columns = {\n",
    "    colname: tf.feature_column.numeric_column(colname) for colname in INPUT_COLS\n",
    "}"
   ]
  },
  {
   "cell_type": "markdown",
   "metadata": {},
   "source": [
    "## Build a simple keras DNN model"
   ]
  },
  {
   "cell_type": "code",
   "execution_count": 8,
   "metadata": {},
   "outputs": [],
   "source": [
    "# Build a keras DNN model using Sequential API\n",
    "def build_model(dnn_hidden_units):\n",
    "    model = Sequential(DenseFeatures(feature_columns=feature_columns.values()))\n",
    "\n",
    "    for num_nodes in dnn_hidden_units:\n",
    "        model.add(Dense(units=num_nodes, activation=\"relu\"))\n",
    "    model.add(Dense(units=1, activation=\"linear\"))\n",
    "\n",
    "    # Create a custom evaluation metric\n",
    "    def rmse(y_true, y_pred):\n",
    "        return tf.sqrt(tf.reduce_mean(tf.square(y_pred - y_true)))\n",
    "\n",
    "    # Compile the keras model\n",
    "    model.compile(optimizer=\"adam\", loss=\"mse\", metrics=[rmse, \"mse\"])\n",
    "\n",
    "    return model"
   ]
  },
  {
   "cell_type": "markdown",
   "metadata": {},
   "source": [
    "Next, we can call the `build_model` to create the model. Here we'll have two hidden layers before our final output layer. And we'll train with the same parameters we used before."
   ]
  },
  {
   "cell_type": "code",
   "execution_count": 9,
   "metadata": {},
   "outputs": [
    {
     "name": "stderr",
     "output_type": "stream",
     "text": [
      "2022-04-23 13:10:08.955827: W tensorflow/stream_executor/platform/default/dso_loader.cc:64] Could not load dynamic library 'libcuda.so.1'; dlerror: libcuda.so.1: cannot open shared object file: No such file or directory; LD_LIBRARY_PATH: /usr/local/cuda/lib64:/usr/local/nccl2/lib:/usr/local/cuda/extras/CUPTI/lib64\n",
      "2022-04-23 13:10:08.955891: W tensorflow/stream_executor/cuda/cuda_driver.cc:269] failed call to cuInit: UNKNOWN ERROR (303)\n",
      "2022-04-23 13:10:08.955932: I tensorflow/stream_executor/cuda/cuda_diagnostics.cc:156] kernel driver does not appear to be running on this host (tensorflow-2-6): /proc/driver/nvidia/version does not exist\n",
      "2022-04-23 13:10:08.957370: I tensorflow/core/platform/cpu_feature_guard.cc:151] This TensorFlow binary is optimized with oneAPI Deep Neural Network Library (oneDNN) to use the following CPU instructions in performance-critical operations:  AVX2 FMA\n",
      "To enable them in other operations, rebuild TensorFlow with the appropriate compiler flags.\n"
     ]
    }
   ],
   "source": [
    "HIDDEN_UNITS = [32, 8]\n",
    "\n",
    "model = build_model(dnn_hidden_units=HIDDEN_UNITS)"
   ]
  },
  {
   "cell_type": "code",
   "execution_count": 10,
   "metadata": {},
   "outputs": [],
   "source": [
    "BATCH_SIZE = 1000\n",
    "NUM_TRAIN_EXAMPLES = 10000 * 6  # training dataset will repeat, wrap around\n",
    "NUM_EVALS = 60  # how many times to evaluate\n",
    "NUM_EVAL_EXAMPLES = 10000  # enough to get a reasonable sample\n",
    "\n",
    "trainds = create_dataset(\n",
    "    pattern=\"../data/taxi-traffic-train*\",\n",
    "    batch_size=BATCH_SIZE,\n",
    "    mode=tf.estimator.ModeKeys.TRAIN,\n",
    ")\n",
    "\n",
    "evalds = create_dataset(\n",
    "    pattern=\"../data/taxi-traffic-valid*\",\n",
    "    batch_size=BATCH_SIZE,\n",
    "    mode=tf.estimator.ModeKeys.EVAL,\n",
    ").take(NUM_EVAL_EXAMPLES // 1000)"
   ]
  },
  {
   "cell_type": "code",
   "execution_count": 11,
   "metadata": {},
   "outputs": [
    {
     "name": "stdout",
     "output_type": "stream",
     "text": [
      "Epoch 1/60\n",
      "WARNING:tensorflow:Layers in a Sequential model should only have a single input tensor. Received: inputs=OrderedDict([('dayofweek', <tf.Tensor 'IteratorGetNext:0' shape=(1000,) dtype=float32>), ('hourofday', <tf.Tensor 'IteratorGetNext:3' shape=(1000,) dtype=float32>), ('pickup_longitude', <tf.Tensor 'IteratorGetNext:5' shape=(1000,) dtype=float32>), ('pickup_latitude', <tf.Tensor 'IteratorGetNext:4' shape=(1000,) dtype=float32>), ('dropoff_longitude', <tf.Tensor 'IteratorGetNext:2' shape=(1000,) dtype=float32>), ('dropoff_latitude', <tf.Tensor 'IteratorGetNext:1' shape=(1000,) dtype=float32>), ('traffic_last_5min', <tf.Tensor 'IteratorGetNext:6' shape=(1000,) dtype=float32>)]). Consider rewriting this model with the Functional API.\n",
      "WARNING:tensorflow:Layers in a Sequential model should only have a single input tensor. Received: inputs=OrderedDict([('dayofweek', <tf.Tensor 'IteratorGetNext:0' shape=(1000,) dtype=float32>), ('hourofday', <tf.Tensor 'IteratorGetNext:3' shape=(1000,) dtype=float32>), ('pickup_longitude', <tf.Tensor 'IteratorGetNext:5' shape=(1000,) dtype=float32>), ('pickup_latitude', <tf.Tensor 'IteratorGetNext:4' shape=(1000,) dtype=float32>), ('dropoff_longitude', <tf.Tensor 'IteratorGetNext:2' shape=(1000,) dtype=float32>), ('dropoff_latitude', <tf.Tensor 'IteratorGetNext:1' shape=(1000,) dtype=float32>), ('traffic_last_5min', <tf.Tensor 'IteratorGetNext:6' shape=(1000,) dtype=float32>)]). Consider rewriting this model with the Functional API.\n",
      "WARNING:tensorflow:Layers in a Sequential model should only have a single input tensor. Received: inputs=OrderedDict([('dayofweek', <tf.Tensor 'IteratorGetNext:0' shape=(1000,) dtype=float32>), ('hourofday', <tf.Tensor 'IteratorGetNext:3' shape=(1000,) dtype=float32>), ('pickup_longitude', <tf.Tensor 'IteratorGetNext:5' shape=(1000,) dtype=float32>), ('pickup_latitude', <tf.Tensor 'IteratorGetNext:4' shape=(1000,) dtype=float32>), ('dropoff_longitude', <tf.Tensor 'IteratorGetNext:2' shape=(1000,) dtype=float32>), ('dropoff_latitude', <tf.Tensor 'IteratorGetNext:1' shape=(1000,) dtype=float32>), ('traffic_last_5min', <tf.Tensor 'IteratorGetNext:6' shape=(1000,) dtype=float32>)]). Consider rewriting this model with the Functional API.\n",
      "WARNING:tensorflow:Layers in a Sequential model should only have a single input tensor. Received: inputs=OrderedDict([('dayofweek', <tf.Tensor 'IteratorGetNext:0' shape=(1000,) dtype=float32>), ('hourofday', <tf.Tensor 'IteratorGetNext:3' shape=(1000,) dtype=float32>), ('pickup_longitude', <tf.Tensor 'IteratorGetNext:5' shape=(1000,) dtype=float32>), ('pickup_latitude', <tf.Tensor 'IteratorGetNext:4' shape=(1000,) dtype=float32>), ('dropoff_longitude', <tf.Tensor 'IteratorGetNext:2' shape=(1000,) dtype=float32>), ('dropoff_latitude', <tf.Tensor 'IteratorGetNext:1' shape=(1000,) dtype=float32>), ('traffic_last_5min', <tf.Tensor 'IteratorGetNext:6' shape=(1000,) dtype=float32>)]). Consider rewriting this model with the Functional API.\n"
     ]
    },
    {
     "name": "stderr",
     "output_type": "stream",
     "text": [
      "2022-04-23 13:10:21.163642: I tensorflow/core/kernels/data/shuffle_dataset_op.cc:390] Filling up shuffle buffer (this may take a while): 708 of 1000\n",
      "2022-04-23 13:10:25.144556: I tensorflow/core/kernels/data/shuffle_dataset_op.cc:415] Shuffle buffer filled.\n"
     ]
    },
    {
     "name": "stdout",
     "output_type": "stream",
     "text": [
      "1/1 [==============================] - ETA: 0s - loss: 333424.1875 - rmse: 577.4290 - mse: 333424.1875WARNING:tensorflow:Layers in a Sequential model should only have a single input tensor. Received: inputs=OrderedDict([('dayofweek', <tf.Tensor 'IteratorGetNext:0' shape=(1000,) dtype=float32>), ('hourofday', <tf.Tensor 'IteratorGetNext:3' shape=(1000,) dtype=float32>), ('pickup_longitude', <tf.Tensor 'IteratorGetNext:5' shape=(1000,) dtype=float32>), ('pickup_latitude', <tf.Tensor 'IteratorGetNext:4' shape=(1000,) dtype=float32>), ('dropoff_longitude', <tf.Tensor 'IteratorGetNext:2' shape=(1000,) dtype=float32>), ('dropoff_latitude', <tf.Tensor 'IteratorGetNext:1' shape=(1000,) dtype=float32>), ('traffic_last_5min', <tf.Tensor 'IteratorGetNext:6' shape=(1000,) dtype=float32>)]). Consider rewriting this model with the Functional API.\n",
      "WARNING:tensorflow:Layers in a Sequential model should only have a single input tensor. Received: inputs=OrderedDict([('dayofweek', <tf.Tensor 'IteratorGetNext:0' shape=(1000,) dtype=float32>), ('hourofday', <tf.Tensor 'IteratorGetNext:3' shape=(1000,) dtype=float32>), ('pickup_longitude', <tf.Tensor 'IteratorGetNext:5' shape=(1000,) dtype=float32>), ('pickup_latitude', <tf.Tensor 'IteratorGetNext:4' shape=(1000,) dtype=float32>), ('dropoff_longitude', <tf.Tensor 'IteratorGetNext:2' shape=(1000,) dtype=float32>), ('dropoff_latitude', <tf.Tensor 'IteratorGetNext:1' shape=(1000,) dtype=float32>), ('traffic_last_5min', <tf.Tensor 'IteratorGetNext:6' shape=(1000,) dtype=float32>)]). Consider rewriting this model with the Functional API.\n",
      "1/1 [==============================] - 17s 17s/step - loss: 333424.1875 - rmse: 577.4290 - mse: 333424.1875 - val_loss: 314056.9062 - val_rmse: 560.3641 - val_mse: 314056.9062\n",
      "Epoch 2/60\n",
      "1/1 [==============================] - 0s 387ms/step - loss: 285258.4062 - rmse: 534.0959 - mse: 285258.4062 - val_loss: 294462.7812 - val_rmse: 542.5775 - val_mse: 294462.7812\n",
      "Epoch 3/60\n",
      "1/1 [==============================] - 0s 365ms/step - loss: 498471.9375 - rmse: 706.0255 - mse: 498471.9375 - val_loss: 277659.9688 - val_rmse: 526.8520 - val_mse: 277659.9688\n",
      "Epoch 4/60\n",
      "1/1 [==============================] - 0s 401ms/step - loss: 443698.5000 - rmse: 666.1070 - mse: 443698.5000 - val_loss: 259737.5938 - val_rmse: 509.6126 - val_mse: 259737.5938\n",
      "Epoch 5/60\n",
      "1/1 [==============================] - 0s 404ms/step - loss: 208535.5469 - rmse: 456.6569 - mse: 208535.5469 - val_loss: 243151.1094 - val_rmse: 493.0304 - val_mse: 243151.1094\n",
      "Epoch 6/60\n",
      "1/1 [==============================] - 0s 386ms/step - loss: 243735.7188 - rmse: 493.6960 - mse: 243735.7188 - val_loss: 227791.6719 - val_rmse: 477.2249 - val_mse: 227791.6719\n",
      "Epoch 7/60\n",
      "1/1 [==============================] - 0s 400ms/step - loss: 229620.6094 - rmse: 479.1874 - mse: 229620.6094 - val_loss: 211128.3125 - val_rmse: 459.4332 - val_mse: 211128.3125\n",
      "Epoch 8/60\n",
      "1/1 [==============================] - 0s 385ms/step - loss: 147179.6562 - rmse: 383.6400 - mse: 147179.6562 - val_loss: 198920.0312 - val_rmse: 445.9250 - val_mse: 198920.0312\n",
      "Epoch 9/60\n",
      "1/1 [==============================] - 0s 407ms/step - loss: 336210.6250 - rmse: 579.8367 - mse: 336210.6250 - val_loss: 184687.6875 - val_rmse: 429.7104 - val_mse: 184687.6875\n",
      "Epoch 10/60\n",
      "1/1 [==============================] - 0s 379ms/step - loss: 273353.3125 - rmse: 522.8320 - mse: 273353.3125 - val_loss: 172690.3750 - val_rmse: 415.5136 - val_mse: 172690.3750\n",
      "Epoch 11/60\n",
      "1/1 [==============================] - 0s 385ms/step - loss: 169781.5938 - rmse: 412.0456 - mse: 169781.5938 - val_loss: 159967.8750 - val_rmse: 399.8934 - val_mse: 159967.8750\n",
      "Epoch 12/60\n",
      "1/1 [==============================] - 0s 377ms/step - loss: 155386.1875 - rmse: 394.1906 - mse: 155386.1875 - val_loss: 147328.5625 - val_rmse: 383.7789 - val_mse: 147328.5625\n",
      "Epoch 13/60\n",
      "1/1 [==============================] - 0s 376ms/step - loss: 129141.9844 - rmse: 359.3633 - mse: 129141.9844 - val_loss: 136263.8594 - val_rmse: 369.0924 - val_mse: 136263.8594\n",
      "Epoch 14/60\n",
      "1/1 [==============================] - 0s 373ms/step - loss: 228521.5625 - rmse: 478.0393 - mse: 228521.5625 - val_loss: 126289.2031 - val_rmse: 355.2967 - val_mse: 126289.2031\n",
      "Epoch 15/60\n",
      "1/1 [==============================] - 0s 373ms/step - loss: 121746.4297 - rmse: 348.9218 - mse: 121746.4297 - val_loss: 115667.1719 - val_rmse: 340.0339 - val_mse: 115667.1719\n",
      "Epoch 16/60\n",
      "1/1 [==============================] - 0s 345ms/step - loss: 120173.7109 - rmse: 346.6608 - mse: 120173.7109 - val_loss: 107227.0938 - val_rmse: 327.4308 - val_mse: 107227.0938\n",
      "Epoch 17/60\n",
      "1/1 [==============================] - 0s 422ms/step - loss: 109038.3984 - rmse: 330.2096 - mse: 109038.3984 - val_loss: 97231.1641 - val_rmse: 311.7851 - val_mse: 97231.1641\n",
      "Epoch 18/60\n",
      "1/1 [==============================] - 0s 348ms/step - loss: 92795.5781 - rmse: 304.6237 - mse: 92795.5781 - val_loss: 89508.6094 - val_rmse: 299.1198 - val_mse: 89508.6094\n",
      "Epoch 19/60\n",
      "1/1 [==============================] - 0s 365ms/step - loss: 81072.9609 - rmse: 284.7332 - mse: 81072.9609 - val_loss: 82307.3125 - val_rmse: 286.8519 - val_mse: 82307.3125\n",
      "Epoch 20/60\n",
      "1/1 [==============================] - 0s 347ms/step - loss: 86862.9297 - rmse: 294.7252 - mse: 86862.9297 - val_loss: 74091.2422 - val_rmse: 272.1478 - val_mse: 74091.2422\n",
      "Epoch 21/60\n",
      "1/1 [==============================] - 0s 379ms/step - loss: 73781.2031 - rmse: 271.6270 - mse: 73781.2031 - val_loss: 67640.5156 - val_rmse: 260.0384 - val_mse: 67640.5156\n",
      "Epoch 22/60\n",
      "1/1 [==============================] - 0s 341ms/step - loss: 71706.7188 - rmse: 267.7811 - mse: 71706.7188 - val_loss: 62132.4922 - val_rmse: 249.2133 - val_mse: 62132.4922\n",
      "Epoch 23/60\n",
      "1/1 [==============================] - 0s 373ms/step - loss: 105753.8750 - rmse: 325.1982 - mse: 105753.8750 - val_loss: 55932.9609 - val_rmse: 236.4884 - val_mse: 55932.9609\n",
      "Epoch 24/60\n",
      "1/1 [==============================] - 0s 356ms/step - loss: 85415.2656 - rmse: 292.2589 - mse: 85415.2656 - val_loss: 50651.1602 - val_rmse: 225.0278 - val_mse: 50651.1602\n",
      "Epoch 25/60\n",
      "1/1 [==============================] - 0s 354ms/step - loss: 52133.4961 - rmse: 228.3276 - mse: 52133.4961 - val_loss: 45398.9297 - val_rmse: 213.0515 - val_mse: 45398.9297\n",
      "Epoch 26/60\n",
      "1/1 [==============================] - 0s 370ms/step - loss: 79513.6172 - rmse: 281.9816 - mse: 79513.6172 - val_loss: 40165.1797 - val_rmse: 200.3838 - val_mse: 40165.1797\n",
      "Epoch 27/60\n",
      "1/1 [==============================] - 0s 387ms/step - loss: 41365.0977 - rmse: 203.3841 - mse: 41365.0977 - val_loss: 35616.4531 - val_rmse: 188.6771 - val_mse: 35616.4531\n",
      "Epoch 28/60\n",
      "1/1 [==============================] - 0s 359ms/step - loss: 37168.8086 - rmse: 192.7921 - mse: 37168.8086 - val_loss: 30851.3340 - val_rmse: 175.6008 - val_mse: 30851.3340\n",
      "Epoch 29/60\n",
      "1/1 [==============================] - 0s 369ms/step - loss: 31162.4102 - rmse: 176.5288 - mse: 31162.4102 - val_loss: 26215.6582 - val_rmse: 161.8734 - val_mse: 26215.6582\n",
      "Epoch 30/60\n",
      "1/1 [==============================] - 0s 387ms/step - loss: 26112.4160 - rmse: 161.5934 - mse: 26112.4160 - val_loss: 21660.4297 - val_rmse: 147.1420 - val_mse: 21660.4297\n",
      "Epoch 31/60\n",
      "1/1 [==============================] - 0s 344ms/step - loss: 35819.2344 - rmse: 189.2597 - mse: 35819.2344 - val_loss: 17276.0898 - val_rmse: 131.4166 - val_mse: 17276.0898\n",
      "Epoch 32/60\n",
      "1/1 [==============================] - 0s 348ms/step - loss: 16623.5098 - rmse: 128.9322 - mse: 16623.5098 - val_loss: 13289.7100 - val_rmse: 115.2408 - val_mse: 13289.7100\n",
      "Epoch 33/60\n",
      "1/1 [==============================] - 0s 395ms/step - loss: 13813.7207 - rmse: 117.5318 - mse: 13813.7207 - val_loss: 9985.7783 - val_rmse: 99.9119 - val_mse: 9985.7783\n",
      "Epoch 34/60\n",
      "1/1 [==============================] - 0s 376ms/step - loss: 9515.1162 - rmse: 97.5455 - mse: 9515.1162 - val_loss: 7141.1094 - val_rmse: 84.4830 - val_mse: 7141.1094\n",
      "Epoch 35/60\n",
      "1/1 [==============================] - 0s 386ms/step - loss: 9490.9902 - rmse: 97.4217 - mse: 9490.9902 - val_loss: 4870.4346 - val_rmse: 69.7679 - val_mse: 4870.4346\n",
      "Epoch 36/60\n",
      "1/1 [==============================] - 0s 372ms/step - loss: 4299.6011 - rmse: 65.5713 - mse: 4299.6011 - val_loss: 3163.4253 - val_rmse: 56.2167 - val_mse: 3163.4253\n",
      "Epoch 37/60\n",
      "1/1 [==============================] - 0s 360ms/step - loss: 2526.9097 - rmse: 50.2684 - mse: 2526.9097 - val_loss: 1949.2692 - val_rmse: 44.1356 - val_mse: 1949.2692\n",
      "Epoch 38/60\n",
      "1/1 [==============================] - 0s 363ms/step - loss: 1770.8860 - rmse: 42.0819 - mse: 1770.8860 - val_loss: 1195.4556 - val_rmse: 34.5647 - val_mse: 1195.4556\n",
      "Epoch 39/60\n",
      "1/1 [==============================] - 0s 381ms/step - loss: 2624.5737 - rmse: 51.2306 - mse: 2624.5737 - val_loss: 787.6687 - val_rmse: 28.0561 - val_mse: 787.6687\n",
      "Epoch 40/60\n",
      "1/1 [==============================] - 0s 333ms/step - loss: 282.9923 - rmse: 16.8224 - mse: 282.9923 - val_loss: 699.0261 - val_rmse: 26.4182 - val_mse: 699.0261\n",
      "Epoch 41/60\n",
      "1/1 [==============================] - 0s 367ms/step - loss: 562.8070 - rmse: 23.7236 - mse: 562.8070 - val_loss: 884.6078 - val_rmse: 29.7338 - val_mse: 884.6078\n",
      "Epoch 42/60\n",
      "1/1 [==============================] - 0s 376ms/step - loss: 816.0057 - rmse: 28.5658 - mse: 816.0057 - val_loss: 1260.5964 - val_rmse: 35.4877 - val_mse: 1260.5964\n",
      "Epoch 43/60\n",
      "1/1 [==============================] - 0s 338ms/step - loss: 835.0317 - rmse: 28.8969 - mse: 835.0317 - val_loss: 1744.3398 - val_rmse: 41.7558 - val_mse: 1744.3398\n",
      "Epoch 44/60\n",
      "1/1 [==============================] - 0s 359ms/step - loss: 972.1278 - rmse: 31.1790 - mse: 972.1278 - val_loss: 2256.7959 - val_rmse: 47.5008 - val_mse: 2256.7959\n",
      "Epoch 45/60\n",
      "1/1 [==============================] - 0s 399ms/step - loss: 2219.7734 - rmse: 47.1145 - mse: 2219.7734 - val_loss: 2778.2915 - val_rmse: 52.7037 - val_mse: 2778.2915\n",
      "Epoch 46/60\n",
      "1/1 [==============================] - 0s 398ms/step - loss: 2610.6050 - rmse: 51.0941 - mse: 2610.6050 - val_loss: 3220.8672 - val_rmse: 56.7501 - val_mse: 3220.8672\n",
      "Epoch 47/60\n",
      "1/1 [==============================] - 0s 377ms/step - loss: 3050.3274 - rmse: 55.2298 - mse: 3050.3274 - val_loss: 3569.4260 - val_rmse: 59.7423 - val_mse: 3569.4260\n",
      "Epoch 48/60\n",
      "1/1 [==============================] - 0s 401ms/step - loss: 3565.9043 - rmse: 59.7152 - mse: 3565.9043 - val_loss: 3786.9893 - val_rmse: 61.5371 - val_mse: 3786.9893\n",
      "Epoch 49/60\n",
      "1/1 [==============================] - 0s 384ms/step - loss: 3686.8955 - rmse: 60.7198 - mse: 3686.8955 - val_loss: 3917.3591 - val_rmse: 62.5871 - val_mse: 3917.3591\n",
      "Epoch 50/60\n",
      "1/1 [==============================] - 0s 359ms/step - loss: 4036.3503 - rmse: 63.5323 - mse: 4036.3503 - val_loss: 3888.4629 - val_rmse: 62.3572 - val_mse: 3888.4629\n",
      "Epoch 51/60\n",
      "1/1 [==============================] - 0s 380ms/step - loss: 3365.3430 - rmse: 58.0116 - mse: 3365.3430 - val_loss: 3759.2307 - val_rmse: 61.3107 - val_mse: 3759.2307\n",
      "Epoch 52/60\n",
      "1/1 [==============================] - 0s 379ms/step - loss: 3245.5491 - rmse: 56.9697 - mse: 3245.5491 - val_loss: 3540.2312 - val_rmse: 59.4979 - val_mse: 3540.2312\n",
      "Epoch 53/60\n",
      "1/1 [==============================] - 0s 383ms/step - loss: 2911.3721 - rmse: 53.9571 - mse: 2911.3721 - val_loss: 3227.7815 - val_rmse: 56.8091 - val_mse: 3227.7815\n",
      "Epoch 54/60\n",
      "1/1 [==============================] - 0s 340ms/step - loss: 2490.1184 - rmse: 49.9011 - mse: 2490.1184 - val_loss: 2903.0254 - val_rmse: 53.8750 - val_mse: 2903.0254\n",
      "Epoch 55/60\n",
      "1/1 [==============================] - 0s 348ms/step - loss: 3073.1501 - rmse: 55.4360 - mse: 3073.1501 - val_loss: 2534.4685 - val_rmse: 50.3394 - val_mse: 2534.4685\n",
      "Epoch 56/60\n",
      "1/1 [==============================] - 0s 388ms/step - loss: 2044.9591 - rmse: 45.2212 - mse: 2044.9591 - val_loss: 2183.6001 - val_rmse: 46.7233 - val_mse: 2183.6001\n",
      "Epoch 57/60\n",
      "1/1 [==============================] - 0s 340ms/step - loss: 2162.0120 - rmse: 46.4974 - mse: 2162.0120 - val_loss: 1843.0940 - val_rmse: 42.9264 - val_mse: 1843.0940\n",
      "Epoch 58/60\n",
      "1/1 [==============================] - 0s 384ms/step - loss: 1832.6711 - rmse: 42.8097 - mse: 1832.6711 - val_loss: 1555.0435 - val_rmse: 39.4264 - val_mse: 1555.0435\n",
      "Epoch 59/60\n",
      "1/1 [==============================] - 0s 390ms/step - loss: 1343.6127 - rmse: 36.6553 - mse: 1343.6127 - val_loss: 1285.7897 - val_rmse: 35.8531 - val_mse: 1285.7897\n",
      "Epoch 60/60\n",
      "1/1 [==============================] - 0s 365ms/step - loss: 778.6170 - rmse: 27.9037 - mse: 778.6170 - val_loss: 1059.2512 - val_rmse: 32.5318 - val_mse: 1059.2513\n",
      "CPU times: user 46.5 s, sys: 10.8 s, total: 57.3 s\n",
      "Wall time: 39.3 s\n"
     ]
    }
   ],
   "source": [
    "%%time\n",
    "steps_per_epoch = NUM_TRAIN_EXAMPLES // (BATCH_SIZE * NUM_EVALS)\n",
    "\n",
    "LOGDIR = \"./taxi_trained\"\n",
    "history = model.fit(\n",
    "    x=trainds,\n",
    "    steps_per_epoch=steps_per_epoch,\n",
    "    epochs=NUM_EVALS,\n",
    "    validation_data=evalds,\n",
    "    callbacks=[TensorBoard(LOGDIR)],\n",
    ")"
   ]
  },
  {
   "cell_type": "code",
   "execution_count": 12,
   "metadata": {},
   "outputs": [
    {
     "data": {
      "text/plain": [
       "<AxesSubplot:>"
      ]
     },
     "execution_count": 12,
     "metadata": {},
     "output_type": "execute_result"
    },
    {
     "data": {
      "image/png": "[encoded data removed]",
      "text/plain": [
       "<Figure size 432x288 with 1 Axes>"
      ]
     },
     "metadata": {
      "needs_background": "light"
     },
     "output_type": "display_data"
    }
   ],
   "source": [
    "RMSE_COLS = [\"rmse\", \"val_rmse\"]\n",
    "\n",
    "pd.DataFrame(history.history)[RMSE_COLS].plot()"
   ]
  },
  {
   "cell_type": "code",
   "execution_count": 13,
   "metadata": {},
   "outputs": [
    {
     "name": "stdout",
     "output_type": "stream",
     "text": [
      "WARNING:tensorflow:Layers in a Sequential model should only have a single input tensor. Received: inputs={'dayofweek': <tf.Tensor 'IteratorGetNext:0' shape=(1,) dtype=int32>, 'hourofday': <tf.Tensor 'IteratorGetNext:3' shape=(1,) dtype=int32>, 'pickup_longitude': <tf.Tensor 'IteratorGetNext:5' shape=(1,) dtype=float32>, 'pickup_latitude': <tf.Tensor 'IteratorGetNext:4' shape=(1,) dtype=float32>, 'dropoff_longitude': <tf.Tensor 'IteratorGetNext:2' shape=(1,) dtype=float32>, 'dropoff_latitude': <tf.Tensor 'IteratorGetNext:1' shape=(1,) dtype=float32>, 'traffic_last_5min': <tf.Tensor 'IteratorGetNext:6' shape=(1,) dtype=int32>}. Consider rewriting this model with the Functional API.\n",
      "WARNING:tensorflow:Layers in a Sequential model should only have a single input tensor. Received: inputs={'dayofweek': <tf.Tensor 'IteratorGetNext:0' shape=(1,) dtype=int32>, 'hourofday': <tf.Tensor 'IteratorGetNext:3' shape=(1,) dtype=int32>, 'pickup_longitude': <tf.Tensor 'IteratorGetNext:5' shape=(1,) dtype=float32>, 'pickup_latitude': <tf.Tensor 'IteratorGetNext:4' shape=(1,) dtype=float32>, 'dropoff_longitude': <tf.Tensor 'IteratorGetNext:2' shape=(1,) dtype=float32>, 'dropoff_latitude': <tf.Tensor 'IteratorGetNext:1' shape=(1,) dtype=float32>, 'traffic_last_5min': <tf.Tensor 'IteratorGetNext:6' shape=(1,) dtype=int32>}. Consider rewriting this model with the Functional API.\n"
     ]
    },
    {
     "data": {
      "text/plain": [
       "array([[-26.06549]], dtype=float32)"
      ]
     },
     "execution_count": 13,
     "metadata": {},
     "output_type": "execute_result"
    }
   ],
   "source": [
    "model.predict(\n",
    "    x={\n",
    "        \"dayofweek\": tf.convert_to_tensor([6]),\n",
    "        \"hourofday\": tf.convert_to_tensor([17]),\n",
    "        \"pickup_longitude\": tf.convert_to_tensor([-73.982683]),\n",
    "        \"pickup_latitude\": tf.convert_to_tensor([40.742104]),\n",
    "        \"dropoff_longitude\": tf.convert_to_tensor([-73.983766]),\n",
    "        \"dropoff_latitude\": tf.convert_to_tensor([40.755174]),\n",
    "        \"traffic_last_5min\": tf.convert_to_tensor([114]),\n",
    "    },\n",
    "    steps=1, # Total number of steps (batches of samples) before declaring the prediction round finished.\n",
    ")"
   ]
  },
  {
   "cell_type": "markdown",
   "metadata": {},
   "source": [
    "## Export and deploy model"
   ]
  },
  {
   "cell_type": "code",
   "execution_count": 14,
   "metadata": {},
   "outputs": [
    {
     "name": "stdout",
     "output_type": "stream",
     "text": [
      "WARNING:tensorflow:Layers in a Sequential model should only have a single input tensor. Received: inputs=OrderedDict([('dayofweek', <tf.Tensor 'dayofweek:0' shape=(None,) dtype=float32>), ('hourofday', <tf.Tensor 'hourofday:0' shape=(None,) dtype=float32>), ('pickup_longitude', <tf.Tensor 'pickup_longitude:0' shape=(None,) dtype=float32>), ('pickup_latitude', <tf.Tensor 'pickup_latitude:0' shape=(None,) dtype=float32>), ('dropoff_longitude', <tf.Tensor 'dropoff_longitude:0' shape=(None,) dtype=float32>), ('dropoff_latitude', <tf.Tensor 'dropoff_latitude:0' shape=(None,) dtype=float32>), ('traffic_last_5min', <tf.Tensor 'traffic_last_5min:0' shape=(None,) dtype=float32>)]). Consider rewriting this model with the Functional API.\n",
      "WARNING:tensorflow:Layers in a Sequential model should only have a single input tensor. Received: inputs=OrderedDict([('dayofweek', <tf.Tensor 'dayofweek:0' shape=(None,) dtype=float32>), ('hourofday', <tf.Tensor 'hourofday:0' shape=(None,) dtype=float32>), ('pickup_longitude', <tf.Tensor 'pickup_longitude:0' shape=(None,) dtype=float32>), ('pickup_latitude', <tf.Tensor 'pickup_latitude:0' shape=(None,) dtype=float32>), ('dropoff_longitude', <tf.Tensor 'dropoff_longitude:0' shape=(None,) dtype=float32>), ('dropoff_latitude', <tf.Tensor 'dropoff_latitude:0' shape=(None,) dtype=float32>), ('traffic_last_5min', <tf.Tensor 'traffic_last_5min:0' shape=(None,) dtype=float32>)]). Consider rewriting this model with the Functional API.\n",
      "WARNING:tensorflow:Layers in a Sequential model should only have a single input tensor. Received: inputs=OrderedDict([('dayofweek', <tf.Tensor 'inputs:0' shape=(None,) dtype=float32>), ('hourofday', <tf.Tensor 'inputs_3:0' shape=(None,) dtype=float32>), ('pickup_longitude', <tf.Tensor 'inputs_5:0' shape=(None,) dtype=float32>), ('pickup_latitude', <tf.Tensor 'inputs_4:0' shape=(None,) dtype=float32>), ('dropoff_longitude', <tf.Tensor 'inputs_2:0' shape=(None,) dtype=float32>), ('dropoff_latitude', <tf.Tensor 'inputs_1:0' shape=(None,) dtype=float32>), ('traffic_last_5min', <tf.Tensor 'inputs_6:0' shape=(None,) dtype=float32>)]). Consider rewriting this model with the Functional API.\n",
      "WARNING:tensorflow:Layers in a Sequential model should only have a single input tensor. Received: inputs=OrderedDict([('dayofweek', <tf.Tensor 'inputs:0' shape=(None,) dtype=float32>), ('hourofday', <tf.Tensor 'inputs_3:0' shape=(None,) dtype=float32>), ('pickup_longitude', <tf.Tensor 'inputs_5:0' shape=(None,) dtype=float32>), ('pickup_latitude', <tf.Tensor 'inputs_4:0' shape=(None,) dtype=float32>), ('dropoff_longitude', <tf.Tensor 'inputs_2:0' shape=(None,) dtype=float32>), ('dropoff_latitude', <tf.Tensor 'inputs_1:0' shape=(None,) dtype=float32>), ('traffic_last_5min', <tf.Tensor 'inputs_6:0' shape=(None,) dtype=float32>)]). Consider rewriting this model with the Functional API.\n",
      "WARNING:tensorflow:Layers in a Sequential model should only have a single input tensor. Received: inputs=OrderedDict([('dayofweek', <tf.Tensor 'inputs:0' shape=(None,) dtype=float32>), ('hourofday', <tf.Tensor 'inputs_3:0' shape=(None,) dtype=float32>), ('pickup_longitude', <tf.Tensor 'inputs_5:0' shape=(None,) dtype=float32>), ('pickup_latitude', <tf.Tensor 'inputs_4:0' shape=(None,) dtype=float32>), ('dropoff_longitude', <tf.Tensor 'inputs_2:0' shape=(None,) dtype=float32>), ('dropoff_latitude', <tf.Tensor 'inputs_1:0' shape=(None,) dtype=float32>), ('traffic_last_5min', <tf.Tensor 'inputs_6:0' shape=(None,) dtype=float32>)]). Consider rewriting this model with the Functional API.\n",
      "WARNING:tensorflow:Layers in a Sequential model should only have a single input tensor. Received: inputs=OrderedDict([('dayofweek', <tf.Tensor 'inputs:0' shape=(None,) dtype=float32>), ('hourofday', <tf.Tensor 'inputs_3:0' shape=(None,) dtype=float32>), ('pickup_longitude', <tf.Tensor 'inputs_5:0' shape=(None,) dtype=float32>), ('pickup_latitude', <tf.Tensor 'inputs_4:0' shape=(None,) dtype=float32>), ('dropoff_longitude', <tf.Tensor 'inputs_2:0' shape=(None,) dtype=float32>), ('dropoff_latitude', <tf.Tensor 'inputs_1:0' shape=(None,) dtype=float32>), ('traffic_last_5min', <tf.Tensor 'inputs_6:0' shape=(None,) dtype=float32>)]). Consider rewriting this model with the Functional API.\n",
      "WARNING:tensorflow:Layers in a Sequential model should only have a single input tensor. Received: inputs=OrderedDict([('dayofweek', <tf.Tensor 'dayofweek:0' shape=(None,) dtype=float32>), ('hourofday', <tf.Tensor 'hourofday:0' shape=(None,) dtype=float32>), ('pickup_longitude', <tf.Tensor 'pickup_longitude:0' shape=(None,) dtype=float32>), ('pickup_latitude', <tf.Tensor 'pickup_latitude:0' shape=(None,) dtype=float32>), ('dropoff_longitude', <tf.Tensor 'dropoff_longitude:0' shape=(None,) dtype=float32>), ('dropoff_latitude', <tf.Tensor 'dropoff_latitude:0' shape=(None,) dtype=float32>), ('traffic_last_5min', <tf.Tensor 'traffic_last_5min:0' shape=(None,) dtype=float32>)]). Consider rewriting this model with the Functional API.\n",
      "WARNING:tensorflow:Layers in a Sequential model should only have a single input tensor. Received: inputs=OrderedDict([('dayofweek', <tf.Tensor 'dayofweek:0' shape=(None,) dtype=float32>), ('hourofday', <tf.Tensor 'hourofday:0' shape=(None,) dtype=float32>), ('pickup_longitude', <tf.Tensor 'pickup_longitude:0' shape=(None,) dtype=float32>), ('pickup_latitude', <tf.Tensor 'pickup_latitude:0' shape=(None,) dtype=float32>), ('dropoff_longitude', <tf.Tensor 'dropoff_longitude:0' shape=(None,) dtype=float32>), ('dropoff_latitude', <tf.Tensor 'dropoff_latitude:0' shape=(None,) dtype=float32>), ('traffic_last_5min', <tf.Tensor 'traffic_last_5min:0' shape=(None,) dtype=float32>)]). Consider rewriting this model with the Functional API.\n",
      "WARNING:tensorflow:Layers in a Sequential model should only have a single input tensor. Received: inputs=OrderedDict([('dayofweek', <tf.Tensor 'dayofweek:0' shape=(None,) dtype=float32>), ('hourofday', <tf.Tensor 'hourofday:0' shape=(None,) dtype=float32>), ('pickup_longitude', <tf.Tensor 'pickup_longitude:0' shape=(None,) dtype=float32>), ('pickup_latitude', <tf.Tensor 'pickup_latitude:0' shape=(None,) dtype=float32>), ('dropoff_longitude', <tf.Tensor 'dropoff_longitude:0' shape=(None,) dtype=float32>), ('dropoff_latitude', <tf.Tensor 'dropoff_latitude:0' shape=(None,) dtype=float32>), ('traffic_last_5min', <tf.Tensor 'traffic_last_5min:0' shape=(None,) dtype=float32>)]). Consider rewriting this model with the Functional API.\n",
      "WARNING:tensorflow:Layers in a Sequential model should only have a single input tensor. Received: inputs=OrderedDict([('dayofweek', <tf.Tensor 'dayofweek:0' shape=(None,) dtype=float32>), ('hourofday', <tf.Tensor 'hourofday:0' shape=(None,) dtype=float32>), ('pickup_longitude', <tf.Tensor 'pickup_longitude:0' shape=(None,) dtype=float32>), ('pickup_latitude', <tf.Tensor 'pickup_latitude:0' shape=(None,) dtype=float32>), ('dropoff_longitude', <tf.Tensor 'dropoff_longitude:0' shape=(None,) dtype=float32>), ('dropoff_latitude', <tf.Tensor 'dropoff_latitude:0' shape=(None,) dtype=float32>), ('traffic_last_5min', <tf.Tensor 'traffic_last_5min:0' shape=(None,) dtype=float32>)]). Consider rewriting this model with the Functional API.\n",
      "WARNING:tensorflow:Layers in a Sequential model should only have a single input tensor. Received: inputs=OrderedDict([('dayofweek', <tf.Tensor 'inputs/dayofweek:0' shape=(None,) dtype=float32>), ('hourofday', <tf.Tensor 'inputs/hourofday:0' shape=(None,) dtype=float32>), ('pickup_longitude', <tf.Tensor 'inputs/pickup_longitude:0' shape=(None,) dtype=float32>), ('pickup_latitude', <tf.Tensor 'inputs/pickup_latitude:0' shape=(None,) dtype=float32>), ('dropoff_longitude', <tf.Tensor 'inputs/dropoff_longitude:0' shape=(None,) dtype=float32>), ('dropoff_latitude', <tf.Tensor 'inputs/dropoff_latitude:0' shape=(None,) dtype=float32>), ('traffic_last_5min', <tf.Tensor 'inputs/traffic_last_5min:0' shape=(None,) dtype=float32>)]). Consider rewriting this model with the Functional API.\n",
      "WARNING:tensorflow:Layers in a Sequential model should only have a single input tensor. Received: inputs=OrderedDict([('dayofweek', <tf.Tensor 'inputs/dayofweek:0' shape=(None,) dtype=float32>), ('hourofday', <tf.Tensor 'inputs/hourofday:0' shape=(None,) dtype=float32>), ('pickup_longitude', <tf.Tensor 'inputs/pickup_longitude:0' shape=(None,) dtype=float32>), ('pickup_latitude', <tf.Tensor 'inputs/pickup_latitude:0' shape=(None,) dtype=float32>), ('dropoff_longitude', <tf.Tensor 'inputs/dropoff_longitude:0' shape=(None,) dtype=float32>), ('dropoff_latitude', <tf.Tensor 'inputs/dropoff_latitude:0' shape=(None,) dtype=float32>), ('traffic_last_5min', <tf.Tensor 'inputs/traffic_last_5min:0' shape=(None,) dtype=float32>)]). Consider rewriting this model with the Functional API.\n",
      "WARNING:tensorflow:Layers in a Sequential model should only have a single input tensor. Received: inputs=OrderedDict([('dayofweek', <tf.Tensor 'inputs/dayofweek:0' shape=(None,) dtype=float32>), ('hourofday', <tf.Tensor 'inputs/hourofday:0' shape=(None,) dtype=float32>), ('pickup_longitude', <tf.Tensor 'inputs/pickup_longitude:0' shape=(None,) dtype=float32>), ('pickup_latitude', <tf.Tensor 'inputs/pickup_latitude:0' shape=(None,) dtype=float32>), ('dropoff_longitude', <tf.Tensor 'inputs/dropoff_longitude:0' shape=(None,) dtype=float32>), ('dropoff_latitude', <tf.Tensor 'inputs/dropoff_latitude:0' shape=(None,) dtype=float32>), ('traffic_last_5min', <tf.Tensor 'inputs/traffic_last_5min:0' shape=(None,) dtype=float32>)]). Consider rewriting this model with the Functional API.\n",
      "WARNING:tensorflow:Layers in a Sequential model should only have a single input tensor. Received: inputs=OrderedDict([('dayofweek', <tf.Tensor 'inputs/dayofweek:0' shape=(None,) dtype=float32>), ('hourofday', <tf.Tensor 'inputs/hourofday:0' shape=(None,) dtype=float32>), ('pickup_longitude', <tf.Tensor 'inputs/pickup_longitude:0' shape=(None,) dtype=float32>), ('pickup_latitude', <tf.Tensor 'inputs/pickup_latitude:0' shape=(None,) dtype=float32>), ('dropoff_longitude', <tf.Tensor 'inputs/dropoff_longitude:0' shape=(None,) dtype=float32>), ('dropoff_latitude', <tf.Tensor 'inputs/dropoff_latitude:0' shape=(None,) dtype=float32>), ('traffic_last_5min', <tf.Tensor 'inputs/traffic_last_5min:0' shape=(None,) dtype=float32>)]). Consider rewriting this model with the Functional API.\n"
     ]
    },
    {
     "name": "stderr",
     "output_type": "stream",
     "text": [
      "2022-04-23 13:10:50.078862: W tensorflow/python/util/util.cc:368] Sets are not currently considered sequences, but this may change in the future, so consider avoiding using them.\n"
     ]
    },
    {
     "name": "stdout",
     "output_type": "stream",
     "text": [
      "INFO:tensorflow:Assets written to: ./export/savedmodel/20220423131049/assets\n",
      "INFO:tensorflow:Assets written to: ./export/savedmodel/20220423131049/assets\n"
     ]
    }
   ],
   "source": [
    "OUTPUT_DIR = \"./export/savedmodel\"\n",
    "shutil.rmtree(OUTPUT_DIR, ignore_errors=True)\n",
    "EXPORT_PATH = os.path.join(OUTPUT_DIR, datetime.now().strftime(\"%Y%m%d%H%M%S\"))\n",
    "model.save(EXPORT_PATH)  # with default serving function\n",
    "os.environ[\"EXPORT_PATH\"] = EXPORT_PATH"
   ]
  },
  {
   "cell_type": "markdown",
   "metadata": {},
   "source": [
    "Note that the last `gcloud` call below, which deploys the model, can take a few minutes, and you might not see the earlier `echo` outputs while that job is still running. If you want to make sure that your notebook is not stalled and your model is actually getting deployed, view your models in the console at https://console.cloud.google.com/vertex-ai/models, click on your model, and you should see your endpoint listed with an \"in progress\" icon next to it."
   ]
  },
  {
   "cell_type": "code",
   "execution_count": 15,
   "metadata": {
    "tags": [
     "flake8-noqa-cell"
    ]
   },
   "outputs": [
    {
     "name": "stdout",
     "output_type": "stream",
     "text": [
      "gs://qwiklabs-gcp-04-853e5675f5e8/taxifare_20220423_131050/\n",
      "MODEL_DISPLAYNAME=taxifare_20220423_131050\n",
      "MODEL_RESOURCENAME=projects/1076138843678/locations/us-central1/models/2074703674822623232\n",
      "MODEL_ID=2074703674822623232\n",
      "ENDPOINT_DISPLAYNAME=taxifare_endpoint_20220423_131050\n",
      "ENDPOINT_RESOURCENAME=projects/1076138843678/locations/us-central1/endpoints/5416396588564086784\n",
      "ENDPOINT_ID=5416396588564086784\n"
     ]
    },
    {
     "name": "stderr",
     "output_type": "stream",
     "text": [
      "Copying file://./export/savedmodel/20220423131049/keras_metadata.pb [Content-Type=application/octet-stream]...\n",
      "Copying file://./export/savedmodel/20220423131049/saved_model.pb [Content-Type=application/octet-stream]...\n",
      "Copying file://./export/savedmodel/20220423131049/variables/variables.data-00000-of-00001 [Content-Type=application/octet-stream]...\n",
      "Copying file://./export/savedmodel/20220423131049/variables/variables.index [Content-Type=application/octet-stream]...\n",
      "/ [4 files][225.5 KiB/225.5 KiB]                                                \n",
      "Operation completed over 4 objects/225.5 KiB.                                    \n",
      "Using endpoint [https://us-central1-aiplatform.googleapis.com/]\n",
      "Waiting for operation [180098424081743872]...\n",
      "......................done.\n",
      "Using endpoint [https://us-central1-aiplatform.googleapis.com/]\n",
      "Waiting for operation [6845425872590077952]...\n",
      "......done.\n",
      "Created Vertex AI endpoint: projects/1076138843678/locations/us-central1/endpoints/5416396588564086784.\n",
      "Using endpoint [https://us-central1-aiplatform.googleapis.com/]\n",
      "Waiting for operation [6521272252535668736]...\n",
      "..................................................................................................................................................................................................................................................................................................................................................................................................................................................................................................................................................................................................................................................................................................................................................................................................................................................................................................................................................................................................................................................................................................................................................................................................................................................................................................................................................................................................................................................................................................................................................................................................................................................................................................................................................................................................................................................................................................................................................................................................................................................................................................................................................................................................................................................................................................................................................................................................................................................................................................................................................................................................................................................................................................................................................................................................................................................................................................................................................................................................................................................................................................................................................................................................................................................................................................................................................................................................................................................................................................................................................................................................................................................................................................................................................................................................................................................................................done.\n",
      "Deployed a model to the endpoint 5416396588564086784. Id of the deployed model: 853071489572798464.\n"
     ]
    }
   ],
   "source": [
    "%%bash\n",
    "TIMESTAMP=$(date -u +%Y%m%d_%H%M%S)\n",
    "MODEL_DISPLAYNAME=taxifare_$TIMESTAMP\n",
    "ENDPOINT_DISPLAYNAME=taxifare_endpoint_$TIMESTAMP\n",
    "IMAGE_URI=\"us-docker.pkg.dev/vertex-ai/prediction/tf2-cpu.2-5:latest\"\n",
    "ARTIFACT_DIRECTORY=gs://${BUCKET}/${MODEL_DISPLAYNAME}/\n",
    "echo $ARTIFACT_DIRECTORY\n",
    "\n",
    "gsutil cp -r ${EXPORT_PATH}/* ${ARTIFACT_DIRECTORY}\n",
    "\n",
    "# Model\n",
    "MODEL_RESOURCENAME=$(gcloud ai models upload \\\n",
    "    --region=$REGION \\\n",
    "    --display-name=$MODEL_DISPLAYNAME \\\n",
    "    --container-image-uri=$IMAGE_URI \\\n",
    "    --artifact-uri=$ARTIFACT_DIRECTORY \\\n",
    "    --format=\"value(model)\")\n",
    "\n",
    "MODEL_ID=$(echo $MODEL_RESOURCENAME | cut -d\"/\" -f6)\n",
    "\n",
    "echo \"MODEL_DISPLAYNAME=${MODEL_DISPLAYNAME}\"\n",
    "echo \"MODEL_RESOURCENAME=${MODEL_RESOURCENAME}\"\n",
    "echo \"MODEL_ID=${MODEL_ID}\"\n",
    "\n",
    "# Endpoint\n",
    "ENDPOINT_RESOURCENAME=$(gcloud ai endpoints create \\\n",
    "  --region=$REGION \\\n",
    "  --display-name=$ENDPOINT_DISPLAYNAME \\\n",
    "  --format=\"value(name)\")\n",
    "\n",
    "ENDPOINT_ID=$(echo $ENDPOINT_RESOURCENAME | cut -d\"/\" -f6)\n",
    "\n",
    "echo \"ENDPOINT_DISPLAYNAME=${ENDPOINT_DISPLAYNAME}\"\n",
    "echo \"ENDPOINT_RESOURCENAME=${ENDPOINT_RESOURCENAME}\"\n",
    "echo \"ENDPOINT_ID=${ENDPOINT_ID}\"\n",
    "\n",
    "# Deployment\n",
    "DEPLOYEDMODEL_DISPLAYNAME=${MODEL_DISPLAYNAME}_deployment\n",
    "MACHINE_TYPE=n1-standard-2\n",
    "MIN_REPLICA_COUNT=1\n",
    "MAX_REPLICA_COUNT=3\n",
    "\n",
    "gcloud ai endpoints deploy-model $ENDPOINT_RESOURCENAME \\\n",
    "  --region=$REGION \\\n",
    "  --model=$MODEL_RESOURCENAME \\\n",
    "  --display-name=$DEPLOYEDMODEL_DISPLAYNAME \\\n",
    "  --machine-type=$MACHINE_TYPE \\\n",
    "  --min-replica-count=$MIN_REPLICA_COUNT \\\n",
    "  --max-replica-count=$MAX_REPLICA_COUNT \\\n",
    "  --traffic-split=0=100"
   ]
  },
  {
   "cell_type": "markdown",
   "metadata": {},
   "source": [
    "Take note of the `ENDPOINT_RESOURCENAME` printed above, as you will need it in the next lab."
   ]
  },
  {
   "cell_type": "markdown",
   "metadata": {},
   "source": [
    "The above model deployment can be initiated from the Vertex AI Python SDK as well, as seen below. In this case, we do not need to create the Endpoint ourselves (we could though), but it is implicitly created during the `model.deploy()` call."
   ]
  },
  {
   "cell_type": "raw",
   "metadata": {},
   "source": [
    "TIMESTAMP = datetime.strftime(datetime.now(), \"%Y%m%d_%H%M%S\")\n",
    "MODEL_DISPLAYNAME = f\"taxifare_{TIMESTAMP}\"\n",
    "ENDPOINT_NAME = f\"taxifare_endpoint_{TIMESTAMP}\"\n",
    "ARTIFACT_DIRECTORY = f\"gs://{BUCKET}/{MODEL_DISPLAYNAME}/\"\n",
    "print(ARTIFACT_DIRECTORY)\n",
    "IMAGE_URI = \"us-docker.pkg.dev/vertex-ai/prediction/tf2-cpu.2-5:latest\"\n",
    "\n",
    "!gsutil cp -r $EXPORT_PATH/* $ARTIFACT_DIRECTORY\n",
    "\n",
    "aiplatform.init(project=PROJECT, location=REGION)\n",
    "\n",
    "# Model\n",
    "model = aiplatform.Model.upload(\n",
    "    display_name=MODEL_DISPLAYNAME,\n",
    "    artifact_uri=ARTIFACT_DIRECTORY,\n",
    "    serving_container_image_uri=IMAGE_URI,\n",
    ")\n",
    "\n",
    "model.wait()\n",
    "\n",
    "print(model.display_name)\n",
    "print(model.resource_name)\n",
    "\n",
    "# Deployment\n",
    "DEPLOYED_MODEL_NAME = f\"{MODEL_DISPLAYNAME}_deployment\"\n",
    "MACHINE_TYPE = \"n1-standard-2\"\n",
    "MIN_REPLICA_COUNT = 1\n",
    "MAX_REPLICA_COUNT = 3\n",
    "\n",
    "model = aiplatform.Model(model_name=model.resource_name)\n",
    "\n",
    "endpoint = model.deploy(\n",
    "    deployed_model_display_name=DEPLOYED_MODEL_NAME,\n",
    "    traffic_split={\"0\": 100},\n",
    "    machine_type=MACHINE_TYPE,\n",
    "    min_replica_count=MIN_REPLICA_COUNT,\n",
    "    max_replica_count=MAX_REPLICA_COUNT,\n",
    ")\n",
    "\n",
    "model.wait()\n",
    "\n",
    "print(endpoint.display_name)\n",
    "print(endpoint.resource_name)\n",
    "print(f\"Model {model.display_name} deployed to Endpoint {endpoint.display_name}.\")\n",
    "print(f\"ENDPOINT_ID={endpoint.resource_name.split('/')[-1]}\")"
   ]
  },
  {
   "cell_type": "markdown",
   "metadata": {},
   "source": [
    "Copyright 2021 Google Inc. Licensed under the Apache License, Version 2.0 (the \"License\"); you may not use this file except in compliance with the License. You may obtain a copy of the License at http://www.apache.org/licenses/LICENSE-2.0 Unless required by applicable law or agreed to in writing, software distributed under the License is distributed on an \"AS IS\" BASIS, WITHOUT WARRANTIES OR CONDITIONS OF ANY KIND, either express or implied. See the License for the specific language governing permissions and limitations under the License"
   ]
  }
 ],
 "metadata": {
  "environment": {
   "kernel": "python3",
   "name": "tf2-gpu.2-6.m90",
   "type": "gcloud",
   "uri": "gcr.io/deeplearning-platform-release/tf2-gpu.2-6:m90"
  },
  "kernelspec": {
   "display_name": "Python 3",
   "language": "python",
   "name": "python3"
  },
  "language_info": {
   "codemirror_mode": {
    "name": "ipython",
    "version": 3
   },
   "file_extension": ".py",
   "mimetype": "text/x-python",
   "name": "python",
   "nbconvert_exporter": "python",
   "pygments_lexer": "ipython3",
   "version": "3.7.12"
  }
 },
 "nbformat": 4,
 "nbformat_minor": 4
}
